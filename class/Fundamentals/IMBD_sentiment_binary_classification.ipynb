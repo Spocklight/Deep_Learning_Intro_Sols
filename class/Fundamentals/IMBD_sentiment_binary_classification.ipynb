{
 "cells": [
  {
   "cell_type": "markdown",
   "metadata": {},
   "source": [
    "It is highly recommended to use a powerful **GPU**, you can use it for free uploading this notebook to [Google Colab](https://colab.research.google.com/notebooks/intro.ipynb).\n",
    "<table align=\"center\">\n",
    " <td align=\"center\"><a target=\"_blank\" href=\"https://colab.research.google.com/github/ezponda/intro_deep_learning/blob/main/class/Fundamentals/IMBD_sentiment_binary_classification.ipynb\">\n",
    "        <img src=\"https://i.ibb.co/2P3SLwK/colab.png\"  style=\"padding-bottom:5px;\" />Run in Google Colab</a></td>\n",
    "  <td align=\"center\"><a target=\"_blank\" href=\"https://github.com/ezponda/intro_deep_learning/blob/main/class/Fundamentals/IMBD_sentiment_binary_classification.ipynb\">\n",
    "        <img src=\"https://i.ibb.co/xfJbPmL/github.png\"  height=\"70px\" style=\"padding-bottom:5px;\"  />View Source on GitHub</a></td>\n",
    "</table>"
   ]
  },
  {
   "cell_type": "markdown",
   "metadata": {},
   "source": [
    "# Classification Example\n",
    " Two-class classification, or binary classification, may be the most widely applied kind of machine-learning problem. In this example, you’ll learn to classify movie reviews as positive or negative, based on the text content of the reviews.\n"
   ]
  },
  {
   "cell_type": "code",
   "execution_count": 1,
   "metadata": {},
   "outputs": [],
   "source": [
    "import tensorflow as tf\n",
    "from tensorflow import keras\n",
    "from tensorflow.keras import layers\n",
    "import numpy as np"
   ]
  },
  {
   "cell_type": "markdown",
   "metadata": {},
   "source": [
    "## The Dataset: The IMDB dataset\n",
    "We’ll work with the IMDB dataset: a set of 50,000 highly polarized reviews from the Internet Movie Database. They’re split into 25,000 reviews for training and 25,000 reviews for testing, each set consisting of 50% negative and 50% positive reviews. The  parameter `num_words` controls how many words different we want to use."
   ]
  },
  {
   "cell_type": "code",
   "execution_count": 2,
   "metadata": {},
   "outputs": [
    {
     "name": "stderr",
     "output_type": "stream",
     "text": [
      "<__array_function__ internals>:5: VisibleDeprecationWarning: Creating an ndarray from ragged nested sequences (which is a list-or-tuple of lists-or-tuples-or ndarrays with different lengths or shapes) is deprecated. If you meant to do this, you must specify 'dtype=object' when creating the ndarray\n",
      "/Users/aezponda/opt/anaconda3/lib/python3.8/site-packages/tensorflow/python/keras/datasets/imdb.py:159: VisibleDeprecationWarning: Creating an ndarray from ragged nested sequences (which is a list-or-tuple of lists-or-tuples-or ndarrays with different lengths or shapes) is deprecated. If you meant to do this, you must specify 'dtype=object' when creating the ndarray\n",
      "  x_train, y_train = np.array(xs[:idx]), np.array(labels[:idx])\n"
     ]
    },
    {
     "name": "stdout",
     "output_type": "stream",
     "text": [
      "[1, 14, 22, 16, 43, 530, 973, 1622, 1385, 65, 458, 4468, 66, 3941, 4, 173, 36, 256, 5, 25, 100, 43, 838, 112, 50, 670, 2, 9, 35, 480, 284, 5, 150, 4, 172, 112, 167, 2, 336, 385, 39, 4, 172, 4536, 1111, 17, 546, 38, 13, 447, 4, 192, 50, 16, 6, 147, 2025, 19, 14, 22, 4, 1920, 4613, 469, 4, 22, 71, 87, 12, 16, 43, 530, 38, 76, 15, 13, 1247, 4, 22, 17, 515, 17, 12, 16, 626, 18, 2, 5, 62, 386, 12, 8, 316, 8, 106, 5, 4, 2223, 5244, 16, 480, 66, 3785, 33, 4, 130, 12, 16, 38, 619, 5, 25, 124, 51, 36, 135, 48, 25, 1415, 33, 6, 22, 12, 215, 28, 77, 52, 5, 14, 407, 16, 82, 2, 8, 4, 107, 117, 5952, 15, 256, 4, 2, 7, 3766, 5, 723, 36, 71, 43, 530, 476, 26, 400, 317, 46, 7, 4, 2, 1029, 13, 104, 88, 4, 381, 15, 297, 98, 32, 2071, 56, 26, 141, 6, 194, 7486, 18, 4, 226, 22, 21, 134, 476, 26, 480, 5, 144, 30, 5535, 18, 51, 36, 28, 224, 92, 25, 104, 4, 226, 65, 16, 38, 1334, 88, 12, 16, 283, 5, 16, 4472, 113, 103, 32, 15, 16, 5345, 19, 178, 32]\n"
     ]
    },
    {
     "name": "stderr",
     "output_type": "stream",
     "text": [
      "/Users/aezponda/opt/anaconda3/lib/python3.8/site-packages/tensorflow/python/keras/datasets/imdb.py:160: VisibleDeprecationWarning: Creating an ndarray from ragged nested sequences (which is a list-or-tuple of lists-or-tuples-or ndarrays with different lengths or shapes) is deprecated. If you meant to do this, you must specify 'dtype=object' when creating the ndarray\n",
      "  x_test, y_test = np.array(xs[idx:]), np.array(labels[idx:])\n"
     ]
    }
   ],
   "source": [
    "from tensorflow.keras.datasets import imdb\n",
    "num_words = 10000\n",
    "(train_data, train_labels), (test_data, test_labels) = imdb.load_data(num_words=num_words)\n",
    "print(train_data[0])"
   ]
  },
  {
   "cell_type": "code",
   "execution_count": 3,
   "metadata": {},
   "outputs": [],
   "source": [
    "# Transform word_id to word and reverse\n",
    "word2int = imdb.get_word_index()\n",
    "word2int = {w: i+3 for w, i in word2int.items()}\n",
    "word2int[\"<PAD>\"] = 0\n",
    "word2int[\"<START>\"] = 1\n",
    "word2int[\"<UNK>\"] = 2\n",
    "word2int[\"<UNUSED>\"] = 3\n",
    "int2word = {i: w for w, i in word2int.items()}\n",
    "num_words = num_words+3"
   ]
  },
  {
   "cell_type": "markdown",
   "metadata": {},
   "source": [
    "For transforming an id-sequence to a phrase use get_words"
   ]
  },
  {
   "cell_type": "code",
   "execution_count": 4,
   "metadata": {},
   "outputs": [
    {
     "name": "stdout",
     "output_type": "stream",
     "text": [
      "<START> this film was just brilliant casting location scenery story direction everyone's really suited the part they played and you could just imagine being there robert <UNK> is an amazing actor and now the same being director <UNK> father came from the same scottish island as myself so i loved the fact there was a real connection with this film the witty remarks throughout the film were great it was just brilliant so much that i bought the film as soon as it was released for <UNK> and would recommend it to everyone to watch and the fly fishing was amazing really cried at the end it was so sad and you know what they say if you cry at a film it must have been good and this definitely was also <UNK> to the two little boy's that played the <UNK> of norman and paul they were just brilliant children are often left out of the <UNK> list i think because the stars that play them all grown up are such a big profile for the whole film but these children are amazing and should be praised for what they have done don't you think the whole story was so lovely because it was true and was someone's life after all that was shared with us all\n",
      "Sentiment:  1\n"
     ]
    }
   ],
   "source": [
    "def get_words(sentence, int2word):\n",
    "    return ' '.join([int2word.get(i,'<UNK>') for i in sentence])\n",
    "print(get_words(train_data[0], int2word))\n",
    "print('Sentiment: ', train_labels[0])"
   ]
  },
  {
   "cell_type": "markdown",
   "metadata": {},
   "source": [
    "## Data Preprocessing\n",
    "\n",
    "You need to convert your raw text to an appropriate input to a sequential model "
   ]
  },
  {
   "cell_type": "code",
   "execution_count": 5,
   "metadata": {},
   "outputs": [
    {
     "name": "stdout",
     "output_type": "stream",
     "text": [
      "<START> this film was just brilliant casting location scenery story direction everyone's really suited the part they played and you could just imagine being there robert <UNK> is an amazing actor and now the same being director <UNK> father came from the same scottish island as myself so i loved the fact there was a real connection with this film the witty remarks throughout the film were great it was just brilliant so much that i bought the film as soon as it was released for <UNK> and would recommend it to everyone to watch and the fly fishing was amazing really cried at the end it was so sad and you know what they say if you cry at a film it must have been good and this definitely was also <UNK> to the two little boy's that played the <UNK> of norman and paul they were just brilliant children are often left out of the <UNK> list i think because the stars that play them all grown up are such a big profile for the whole film but these children are amazing and should be praised for what they have done don't you think the whole story was so lovely because it was true and was someone's life after all that was shared with us all\n",
      "[1, 14, 22, 16, 43, 530, 973, 1622, 1385, 65, 458, 4468, 66, 3941, 4, 173, 36, 256, 5, 25, 100, 43, 838, 112, 50, 670, 2, 9, 35, 480, 284, 5, 150, 4, 172, 112, 167, 2, 336, 385, 39, 4, 172, 4536, 1111, 17, 546, 38, 13, 447, 4, 192, 50, 16, 6, 147, 2025, 19, 14, 22, 4, 1920, 4613, 469, 4, 22, 71, 87, 12, 16, 43, 530, 38, 76, 15, 13, 1247, 4, 22, 17, 515, 17, 12, 16, 626, 18, 2, 5, 62, 386, 12, 8, 316, 8, 106, 5, 4, 2223, 5244, 16, 480, 66, 3785, 33, 4, 130, 12, 16, 38, 619, 5, 25, 124, 51, 36, 135, 48, 25, 1415, 33, 6, 22, 12, 215, 28, 77, 52, 5, 14, 407, 16, 82, 2, 8, 4, 107, 117, 5952, 15, 256, 4, 2, 7, 3766, 5, 723, 36, 71, 43, 530, 476, 26, 400, 317, 46, 7, 4, 2, 1029, 13, 104, 88, 4, 381, 15, 297, 98, 32, 2071, 56, 26, 141, 6, 194, 7486, 18, 4, 226, 22, 21, 134, 476, 26, 480, 5, 144, 30, 5535, 18, 51, 36, 28, 224, 92, 25, 104, 4, 226, 65, 16, 38, 1334, 88, 12, 16, 283, 5, 16, 4472, 113, 103, 32, 15, 16, 5345, 19, 178, 32]\n"
     ]
    }
   ],
   "source": [
    "def vectorize_text_sentence(text, word2int):\n",
    "    tokens = text.split(' ')\n",
    "    tokens_id = [word2int.get(tk,2) for tk in tokens]\n",
    "    return tokens_id\n",
    "\n",
    "text = get_words(train_data[0], int2word)\n",
    "print(text)\n",
    "print(vectorize_text_sentence(text, word2int))"
   ]
  },
  {
   "cell_type": "markdown",
   "metadata": {},
   "source": [
    "### Bag of Words Model BoW\n",
    "We are going to use a bag of words model. BoW is a simplifying representation used in natural language processing. In this model, a text (such as a sentence or a document) is represented as the Each key is the word, and each value is the frequency of occurrences of that word in the given text document.\n",
    "\n",
    "- **Input document**: `\"John likes to watch movies Mary likes movies too\"`\n",
    "- **BoW**: `{'John': 1, 'likes': 2, 'to': 1, 'watch': 1, 'movies': 2, 'Mary': 1, 'too': 1}`\n",
    "- **BoW Normalized**: `{'John': 0.11, 'likes': 0.22, 'to': 0.11, 'watch': 0.11, 'movies': 0.22, 'Mary': 0.11, 'too': 0.11}`\n"
   ]
  },
  {
   "cell_type": "code",
   "execution_count": 6,
   "metadata": {},
   "outputs": [
    {
     "name": "stdout",
     "output_type": "stream",
     "text": [
      "text_example John likes to watch movies Mary likes movies too\n",
      "text splitted ['John', 'likes', 'to', 'watch', 'movies', 'Mary', 'likes', 'movies', 'too']\n",
      "bag_of_words {'John': 0.1111111111111111, 'likes': 0.2222222222222222, 'to': 0.1111111111111111, 'watch': 0.1111111111111111, 'movies': 0.2222222222222222, 'Mary': 0.1111111111111111, 'too': 0.1111111111111111}\n",
      "bag_of_words norm=False {'John': 1, 'likes': 2, 'to': 1, 'watch': 1, 'movies': 2, 'Mary': 1, 'too': 1}\n",
      "bag_of_words with indexes {308: 1, 1232: 2, 8: 1, 106: 1, 102: 2, 1083: 1, 99: 1}\n"
     ]
    }
   ],
   "source": [
    "from collections import Counter\n",
    "\n",
    "def get_bag_of_words(sequence, norm=True):\n",
    "    word_count = Counter(sequence)\n",
    "    if norm:\n",
    "        total = sum(word_count.values())\n",
    "        word_freq = {w: n / total for w, n in word_count.items()}\n",
    "        return word_freq\n",
    "    else:\n",
    "        return dict(word_count.items())\n",
    "\n",
    "text_example = \"John likes to watch movies Mary likes movies too\"\n",
    "print('text_example', text_example)\n",
    "text_sequence = text_example.split()\n",
    "print('text splitted', text_sequence)\n",
    "bag_of_words = get_bag_of_words(text_sequence)\n",
    "print('bag_of_words', bag_of_words)\n",
    "print('bag_of_words norm=False', get_bag_of_words(text_sequence, norm=False))\n",
    "print(\n",
    "    'bag_of_words with indexes', {\n",
    "        word2int[w.lower()]: p\n",
    "        for w, p in get_bag_of_words(text_sequence, norm=False).items()\n",
    "    })"
   ]
  },
  {
   "cell_type": "markdown",
   "metadata": {},
   "source": [
    "### Document Term Matrix\n",
    "\n",
    "We need a way to model the documents so that they are all the same length, so that we can use a neural network. For this we are going to use the document term matrix.\n",
    "- Every document is a vector with the dimension of the vocabulary.\n",
    "- The position i of the vector corresponds to the word with index i.\n",
    "- The vector is all zeros except for the BoW word positions, which are filled with the frequency of the corresponding word.\n",
    "\n",
    "\n",
    "For example:\n",
    "\n",
    "- D1 = \"I like movies\",  `{'I': 1, 'like': 1, 'movies': 1}`\n",
    "\n",
    "- D2 = \"I dislike movies\",  `{'I': 1, 'dislike': 1, 'movies': 1}`\n",
    "\n",
    "Then the document-term matrix would be:\n",
    "\n",
    "\n",
    "\n",
    "   | Doc| I  | like    | dislike   | movies   |\n",
    "|---:|:-------------|:-----------|:------|:------|\n",
    "| D1 | 1  | 1       | 0   | 1     |\n",
    "| D2 | 1  | 0    | 1   | 1     |\n",
    "\n",
    "$D1 = [1,1,0,1]$\n",
    "\n",
    "$D2 = [1,0,1,1]$\n",
    "\n",
    "We convert every BoW to a vector of `dim=num_words` with `vectorize_sequences`"
   ]
  },
  {
   "cell_type": "code",
   "execution_count": 7,
   "metadata": {},
   "outputs": [
    {
     "data": {
      "text/plain": [
       "((25000, 10003), (25000,))"
      ]
     },
     "execution_count": 7,
     "metadata": {},
     "output_type": "execute_result"
    }
   ],
   "source": [
    "def vectorize_sequence(sequence, num_words, norm=True):\n",
    "    vec = np.zeros(num_words)\n",
    "    bow = get_bag_of_words(sequence, norm)\n",
    "    for w, freq in bow.items():\n",
    "        if w < num_words:\n",
    "            vec[w] = freq\n",
    "    return vec\n",
    "\n",
    "\n",
    "def vectorize_sequences(sequences, num_words=num_words, norm=True):\n",
    "    \"\"\"Creates an all-zero matrix of shape (len(sequences), num_words)\"\"\"\n",
    "    results = np.zeros((len(sequences), num_words))\n",
    "    for i, sequence in enumerate(sequences):\n",
    "        results[i, :] = vectorize_sequence(sequence, num_words, norm)\n",
    "    return results\n",
    "\n",
    "\n",
    "x_train = vectorize_sequences(train_data, num_words=num_words)\n",
    "x_test = vectorize_sequences(test_data, num_words=num_words)\n",
    "y_train =np.asarray(train_labels).astype('float32')\n",
    "y_test = np.asarray(test_labels).astype('float32')\n",
    "x_train.shape, y_train.shape"
   ]
  },
  {
   "cell_type": "markdown",
   "metadata": {},
   "source": [
    "## Define and train a model \n",
    "\n",
    "Define, compile and fit your NN model\n",
    "\n",
    "1. You can use the [Functional API](https://keras.io/guides/functional_api/):\n",
    "\n",
    "You need to start with an input data entry:\n",
    "```python    \n",
    "    inputs = keras.Input(shape=(8,))\n",
    "    layer_1 = layers.Dense(...)(inputs)\n",
    "```\n",
    "\n",
    "and the network outputs:\n",
    "```python\n",
    "outputs = layers.Dense(...)(previous_layer)\n",
    "model = keras.Model(inputs=inputs, outputs=outputs)\n",
    "```\n",
    "\n",
    "2. Or you can use [Sequential API](https://keras.io/guides/sequential_model/)\n",
    "\n",
    "```python\n",
    "model = keras.Sequential(name='example_model')\n",
    "model.add(layers.Dense(..., input_shape=(8,))\n",
    "model.add(...\n",
    "```\n",
    "\n",
    "First try with only one hidden layer and see the results."
   ]
  },
  {
   "cell_type": "code",
   "execution_count": 8,
   "metadata": {},
   "outputs": [],
   "source": [
    "# model = ..."
   ]
  },
  {
   "cell_type": "code",
   "execution_count": 9,
   "metadata": {},
   "outputs": [],
   "source": [
    "inputs = tf.keras.Input(shape=(num_words,), name='input_layer')  # entrada\n",
    "\n",
    "l_1 = layers.Dense(128, activation='relu')(inputs)\n",
    "l_1 = layers.Dropout(0.35)(l_1)\n",
    "\n",
    "l_2 = layers.Dense(64, activation='relu')(l_1)\n",
    "l_2 = layers.Dropout(0.35)(l_2)\n",
    "\n",
    "outputs = layers.Dense(1, activation='sigmoid')(l_2)\n",
    "# Model definition\n",
    "model = keras.Model(inputs=inputs, outputs=outputs)"
   ]
  },
  {
   "cell_type": "code",
   "execution_count": 10,
   "metadata": {},
   "outputs": [
    {
     "name": "stdout",
     "output_type": "stream",
     "text": [
      "Epoch 1/4\n",
      "586/586 [==============================] - 6s 9ms/step - loss: 0.5975 - accuracy: 0.6755 - val_loss: 0.2964 - val_accuracy: 0.8800\n",
      "Epoch 2/4\n",
      "586/586 [==============================] - 5s 8ms/step - loss: 0.2614 - accuracy: 0.8988 - val_loss: 0.2576 - val_accuracy: 0.8974\n",
      "Epoch 3/4\n",
      "586/586 [==============================] - 3s 6ms/step - loss: 0.1850 - accuracy: 0.9330 - val_loss: 0.2608 - val_accuracy: 0.8939\n",
      "Epoch 4/4\n",
      "586/586 [==============================] - 3s 6ms/step - loss: 0.1492 - accuracy: 0.9482 - val_loss: 0.2788 - val_accuracy: 0.8920\n",
      "Epoch 00004: early stopping\n"
     ]
    }
   ],
   "source": [
    "es_callback = keras.callbacks.EarlyStopping(monitor='val_loss',\n",
    "                                            patience=2,\n",
    "                                            verbose=1)\n",
    "\n",
    "model.compile(optimizer='adam',\n",
    "              loss='binary_crossentropy',\n",
    "              metrics=['accuracy'])\n",
    "history = model.fit(x_train,\n",
    "                    y_train,\n",
    "                    validation_split=0.25,\n",
    "                    epochs=4,\n",
    "                    batch_size=32,\n",
    "                    callbacks=[es_callback])"
   ]
  },
  {
   "cell_type": "code",
   "execution_count": 11,
   "metadata": {},
   "outputs": [
    {
     "data": {
      "image/png": "[encoded data removed]",
      "text/plain": [
       "<Figure size 1152x432 with 2 Axes>"
      ]
     },
     "metadata": {
      "needs_background": "light"
     },
     "output_type": "display_data"
    }
   ],
   "source": [
    "import matplotlib.pyplot as plt\n",
    "import pandas as pd\n",
    "def show_loss_accuracy_evolution(hist):\n",
    "\n",
    "    fig, (ax1, ax2) = plt.subplots(1, 2, figsize=(16, 6))\n",
    "\n",
    "    ax1.set_xlabel('Epoch')\n",
    "    ax1.set_ylabel('Sparse Categorical Crossentropy')\n",
    "    ax1.plot(hist['epoch'], hist['loss'], label='Train Error')\n",
    "    ax1.plot(hist['epoch'], hist['val_loss'], label = 'Val Error')\n",
    "    ax1.grid()\n",
    "    ax1.legend()\n",
    "\n",
    "    ax2.set_xlabel('Epoch')\n",
    "    ax2.set_ylabel('Accuracy')\n",
    "    ax2.plot(hist['epoch'], hist['accuracy'], label='Train Accuracy')\n",
    "    ax2.plot(hist['epoch'], hist['val_accuracy'], label = 'Val Accuracy')\n",
    "    ax2.grid()\n",
    "    ax2.legend()\n",
    "\n",
    "    plt.show()\n",
    "    \n",
    "hist = pd.DataFrame(history.history)\n",
    "hist['epoch'] = history.epoch\n",
    "show_loss_accuracy_evolution(hist)"
   ]
  },
  {
   "cell_type": "markdown",
   "metadata": {},
   "source": [
    "### Evaluate the model\n",
    "You need to obtain a Test Accuracy > 0.85. Try to get more than 0.9!"
   ]
  },
  {
   "cell_type": "code",
   "execution_count": 12,
   "metadata": {},
   "outputs": [
    {
     "name": "stdout",
     "output_type": "stream",
     "text": [
      "782/782 [==============================] - 3s 3ms/step - loss: 0.3133 - accuracy: 0.8777\n",
      "Test Loss: 0.31329718232154846\n",
      "Test Accuracy: 0.8776800036430359\n"
     ]
    }
   ],
   "source": [
    "results = model.evaluate(x_test, y_test, verbose=1)\n",
    "print('Test Loss: {}'.format(results[0]))\n",
    "print('Test Accuracy: {}'.format(results[1]))"
   ]
  },
  {
   "cell_type": "code",
   "execution_count": 13,
   "metadata": {},
   "outputs": [
    {
     "name": "stdout",
     "output_type": "stream",
     "text": [
      "Predicted : 0, real : 1.0, lenght: 127\n",
      "<START> i this on turner classic just because it was pre code and sounded interesting when i got around to watching i noticed that the critique gave it one and a half stars on a four star scale i started watching with <UNK> even old movies can be bad movies but i quickly got engaged in the story and mary performance as the business brains behind a simple <UNK> rise to success not a truly great movie too predictable but certainly better than advertised and i would have liked to have seen more of <UNK> cortez as the man who <UNK> mary but won't give up his wealthy wife i'd recommend giving it a look just to appreciate <UNK> and what a long way we've come baby\n",
      "\n",
      "Predicted : 0, real : 1.0, lenght: 121\n",
      "<START> how is it possible to like and dislike the same movie br br the plot is very much like that <UNK> foster thing only not as good nicole was great jude was adequate they didn't give him many lines is there a reason for that generally he's a pretty good actor she's so elegant his character is so country <UNK> it makes one wonder what they see in each other br br romance between two such was only successful in lady lover br br i think the dislike comes about because the movie is too long they could have told the story in two hours br br the story is good good locations good filming the character actors were great\n",
      "\n",
      "Predicted : 1, real : 0.0, lenght: 996\n",
      "<START> the <UNK> of western style <UNK> on the various of india have <UNK> remained largely non existent the two <UNK> <UNK> to alien <UNK> and threatening in the name of tradition never to <UNK> art <UNK> life or so the claim goes and popular hindi cinema is no exception <UNK> an underlying <UNK> which <UNK> forms the foundation of much of the collective indian culture but why what is it about the female gender that has rendered it so hateful to the culture that women are <UNK> subject to the most <UNK> horrors including rape murder <UNK> <UNK> <UNK> infidelity and the <UNK> of spirit that goes under the name of <UNK> <UNK> latest offering <UNK> asks the same <UNK> question <UNK> the atrocities committed against women through three separate chapters episodes which <UNK> the journey of shame endured by its protagonist br br direction on <UNK> part is not up to par with the level the story demands he fails to achieve the necessary sensitivity in depicting the saga of sadness and confronts the issue of <UNK> from the side instead of head on <UNK> has recently said that he did not make the film for an international film festival but rather for the masses of his country <UNK> the <UNK> shows and the film too often <UNK> into the action blood gore genre that <UNK> <UNK> in the film suffers from its jerky episodic pace and its ending is rather too contrived br br the female cast is given much <UNK> and more rounded characterizations than their male counterparts the protagonist is played <UNK> by the beautiful who proves in <UNK> that she is one of our <UNK> more competent leading ladies and given a proper role and set up emerges with a truly commendable performance one wonders how brilliantly she may have <UNK> had the film been made by a director with the appropriate creative intention and appreciation of the issue at hand puts in a <UNK> performance and continues to show that she is an <UNK> talent cast as <UNK> <UNK> performs with a never before seen <UNK> and <UNK> for what truly deserves the name of <UNK> ' the role of a street smart performer who finds <UNK> in alcohol and the promise of an unborn child stands as the greatest risk in her cannon of song n dance roles which have <UNK> her <UNK> status over the past decade which leaves the final and most disturbing performance in this would be feminist saga that of the <UNK> talented <UNK> <UNK> is film there can be no doubt about that but it is <UNK> who <UNK> the proceedings in a performance that <UNK> into your bones and sends echoes of terror through the of your heart <UNK> <UNK> as <UNK> vanity and <UNK> to deliver a performance that is so <UNK> with authenticity and <UNK> that emotional nudity becomes the <UNK> of this portion of the film comparisons are indeed <UNK> especially when rendered opposite one of the world's great leading ladies but in the <UNK> presence of this <UNK> screen legend the others fade in her shadow br br <UNK> has none of the sophistication of <UNK> feminist dramas like <UNK> <UNK> or even the hell queen celebration it <UNK> its <UNK> goals in two early moments the loud <UNK> in which <UNK> her in laws for their abuse of her father who has committed no other crime than given birth to a girl she <UNK> leaving the wedding <UNK> in <UNK> seeing her father <UNK> she begins to <UNK> <UNK> herself for the chaotic destruction in front of her she <UNK> why did i say anything i have ruined everything it is all my fault her grandmother witnessing <UNK> the abuse she bore <UNK> her by saying why are you crying there is no reason for you to be crying you are not at fault for anything the fault is mine the fault is of every woman who came before you because if we had had the courage to say in our day what you have said today there would have been no need for you to say anything today in this scene the importance of the feminist legacy is laid <UNK> in sight through words br br the other more subtle moment comes very early in the film when has <UNK> from her abusive husband to the <UNK> of her parents' home in india to viewers of western societies it may seem perfectly reasonable indeed natural that any abused woman would seek the protective of her parents this however is a societal taboo in many eastern cultures india among them once a woman has been married the identity she assumes is that of her husband and his personal <UNK> family business children etc for her to turn her back on these <UNK> is a grave social sin one which truly has no equivalent for the western woman she is thereafter regarded as <UNK> and as one whose value has been <UNK> entirely by her own actions and her <UNK> to submit to the role she has been given she is not so much an individual as she is an <UNK> of <UNK> honor her father <UNK> her for her actions concerned that his <UNK> honor will be <UNK> <UNK> by the daughter he had already transferred to another man his primary concern is that of the impending marriage of younger sister a <UNK> made far less likely with a divorced elder daughter in the same household he tells her in no uncertain that she must return to the man to whom she belongs however violent and sadistic he may be he against her the age old <UNK> that the honor of every home lies in the hands of its daughter quietly and <UNK> she replies yes the honor of every home lies in the hands of its daughter but there is no honor for the daughter herself\n",
      "\n",
      "Predicted : 1, real : 0.0, lenght: 764\n",
      "<START> the brave one is about a new york radio show host named <UNK> <UNK> jodie foster her life is a dream living in the city she grew up in and loves she has her great fiancé david andrews whom she is planning to marry but one night while <UNK> and david are out walking their dog they are attacked and <UNK> by a group of <UNK> leaving david dead <UNK> <UNK> but is <UNK> and traumatized later on and can barely cope with real life anymore she buys a gun off a guy on the streets for protection but one day she's shopping in a store and a man comes in and shoots the clerk dead it is then that <UNK> shoots and kills this man and she becomes a vigilante killing anyone who tries to <UNK> or harm her or any others at the same time detective <UNK> <UNK> howard is tracking down this <UNK> unknown killer and in the process becomes friends with <UNK> <UNK> begins to regain her sanity as she kills these violent people but is unsure of whether or not what she's doing is morally right and as her and <UNK> become closer he doesn't even realize the unknown murderous <UNK> is right next to him br br jodie foster gives a very good performance in the brave one she portrays this type of violent morally <UNK> character brilliantly <UNK> howard is also great in this movie both have excellent chemistry together and <UNK> the film to a certain level the brave one looks visually <UNK> and conveys some brilliant camera work but not all of it works to a great effect the scenes where <UNK> is absolutely traumatized and afraid to walk out her front door to face the world the camera <UNK> back and forth to the sides in an almost dream like way and really captured the moment with essence whereas almost every time <UNK> killed somebody everything just had to go <UNK> mo and show her facial expressions in fine detail the <UNK> mo was properly used when <UNK> committed her first murder but why keep doing this effect almost every time she committed murder the camera work creates a great atmosphere in most of the film but there a few scenes here that are just plain <UNK> br br the brave one is very much about how these murders affect <UNK> emotionally her fiancé is killed by a group of thugs and suddenly her love of new york city is turned upside down she realizes that there is a dark side to the beloved city and she says so on her radio show i don't completely understand this though <UNK> acts as if she never realized that violence can occur at night in the city and that's pretty stupid if she lived there all her life she must be either blind or very oblivious <UNK> also seems to be a <UNK> for <UNK> murderous people she really doesn't even have to go look for them they just to come to her as if they're begging to be shot dead for their wrong doing the brave one deals with the morals and proper use of violence strongly at first and then suddenly it <UNK> it the ending is very negative and completely <UNK> and <UNK> it also <UNK> the purpose of <UNK> <UNK> character which the movie spends so much time trying to <UNK> develop and suddenly his morals take a u turn the morals in the brave one become very <UNK> and just plain <UNK> all over the place by the end so violence is okay it's a good thing to commit murder as long as it's for vengeance i pretty much refuse to believe that you know why because i have a conscience which this film surely lacks it is not right to take the life of another person no matter how bad they are or how much you hate them <UNK> <UNK> sets out to stop these evil <UNK> but in the end she is no better than the horrible people she kills br br jodie foster and <UNK> howard provide a lot of strength for this movie the brave one contains a strong message but that message is both <UNK> and wrong this movie may look pretty well acted and intelligently strong but it becomes pretty rotten by the end i give the brave one a 1 5 out of 4 the message is very out of line and morally incorrect and really can't be saved by the good acting\n",
      "\n",
      "Predicted : 0, real : 1.0, lenght: 263\n",
      "<START> i have no idea what the budget on this movie was but whatever it was they made it work i have seen movies that spend <UNK> the amount pearl harbor anyone and sucked worse this movie has everything david it <UNK> in the lead role as adam an average college student who gets wrapped up in a game called the great run by leon this guy rocks a genius with nothing better to do than come up with an elaborate game for a bunch of people to play but he doesn't just pick his friends he has a team of <UNK> <UNK> average kids and of course team who are the bad guys but this movie has no black and white there are many shades of gray adam is not the <UNK> hero with no faults he treats alex p like crap and <UNK> is the way he is because of <UNK> from his dad and a <UNK> stomach the <UNK> play dirty but so does everyone else this movie rocks the scene at the factory classic <UNK> <UNK> male child can you write a better clue this stuff is gold jerry gold maybe i am from a different generation but i love movies that seem far fetched but still have roots in reality this never happened but it could <UNK> <UNK> <UNK> bunny <UNK> parade oh and watch for a young paul <UNK> still working on that pee wee character ps that was is hot she must have been one bad actress not to work in hollywood anymore see this movie\n",
      "\n",
      "Predicted : 1, real : 0.0, lenght: 123\n",
      "<START> the prior comments are way to generous this movie is a waste of electricity and plastic on the other hand i have had a great deal of fun giving it to friends to watch and describing it beforehand as beyond belief no words can express how i feel about this this movie will move you as expected the friends took these <UNK> comments as enthusiastic <UNK> they were wrong the sadistic pleasure i had <UNK> this on people was well worth the 5 i paid for the movie on the other hand one former friend says i owe him 90 minutes of his life back i particularly enjoyed the <UNK> eye view of parts of the movie truly awesome in it's absurdity\n",
      "\n",
      "Predicted : 0, real : 1.0, lenght: 87\n",
      "<START> stan as a <UNK> and a good one is quite a surprise usually overshadowed by oliver hardy this silent short allows him to take the lead and the <UNK> br br one can only draw the conclusion that his character was a parody of the many <UNK> <UNK> movies of this era br br be prepared to laugh yourself silly at some of the dialog and keep an eye on the special effects br br i viewed this on dvd in a <UNK> 1 2 collection\n",
      "\n",
      "Predicted : 0, real : 1.0, lenght: 151\n",
      "<START> i have seen it a few times and get completely glued to it every time it is very suspenseful and intense to describe it sounds boring but it is amazing it is the kind of movie where you need can't miss a thing but if you <UNK> it in it sticks with you long after it ends now thinking about it i don't even know what stone was trying to make us see just the story of alan green i don't think so it was a look at ignorance stupidity self <UNK> and a guy just <UNK> his grip maybe he had more grip than the <UNK> though i didn't like barry but still seemed worried about him for some reason i was <UNK> at why i couldn't get him out of my mind when the movie ended i wish i could see inside <UNK> <UNK> mind for this one\n",
      "\n",
      "Predicted : 0, real : 1.0, lenght: 165\n",
      "<START> warner brothers produced this 3d <UNK> that was the biggest commercial success for westerns in 1953 guy madison leads a band of soldiers and <UNK> to rescue two white women being held by indians which essentially all there is to this film the 3d format was in its early stages as a hollywood gimmick to compete with the growing popularity of home television and the effects work very well here the <UNK> make off with the ladies and are pursued by the indians until the white men make their stand at an island in a creek bed the indian <UNK> comes at the audience non stop throughout and a <UNK> of <UNK> juice aimed at a <UNK> is thrown in for good measure madison was quite popular as <UNK> wild bill <UNK> and is good as a <UNK> cattle <UNK> who is given his <UNK> task by the army for all the film's polish and presentation the movie was made in just three days\n",
      "\n",
      "Predicted : 0, real : 1.0, lenght: 307\n",
      "<START> <UNK> the murderous doll from child's play and 2 crappy sequels is dead but his ex girlfriend <UNK> jennifer <UNK> gets his remains and using voodoo for <UNK> <UNK> him then through circumstances too convoluted to get into she is killed and has her soul put into another doll together they fall in love and kidnap a nice couple nick <UNK> <UNK> to take them to <UNK> coffin to get an <UNK> to make <UNK> and <UNK> real people again br br a lot better than it sounds after the last two sequels to child's play both of which were horrible i was expecting the worst but this actually was lots of fun the movie doesn't take itself seriously for a second seriously how could it and the lines and situations are actually quite funny also there are a few very gory murders thrown in to satisfy us horror fans and the film never stops moving the movie also has a few things usually not found in a horror movie a gay best friend gordon michael who is intelligent and not played for laughs and a sequence in which has his shirt off just to show his muscular body john ritter has a nice cameo too as a sheriff br br the acting is good is young very handsome and likable <UNK> doesn't have much to do but pulls it off and brad <UNK> the voice of <UNK> and <UNK> are hilarious as the murderous dolls my favorite part is when the dolls have sex don't ask and she asks for a rubber and he responds but i'm made of rubber the special effects are good no lousy cgi here and this is one of the few horror films to mix humor and violence in an entertaining way well worth seeing i give it a 9\n",
      "\n"
     ]
    }
   ],
   "source": [
    "def show_errors(x_test, model, labels, int2word, n_samples=10):\n",
    "    preds = 1.0 * (model.predict(x_test).flatten() > 0.5)\n",
    "    bad_pred_inds = np.where(preds != labels)[0]\n",
    "    n_samples = min(len(bad_pred_inds), n_samples)\n",
    "    samples_inds = np.random.choice(bad_pred_inds, n_samples)\n",
    "    for ind in samples_inds:\n",
    "        print('Predicted : {0}, real : {1}, lenght: {2}'.format(\n",
    "            int(preds[ind]), labels[ind], len(test_data[ind])))\n",
    "        print(get_words(test_data[ind], int2word))\n",
    "        print()\n",
    "    return\n",
    "\n",
    "show_errors(x_test, model, y_test, int2word, n_samples=10)"
   ]
  },
  {
   "cell_type": "markdown",
   "metadata": {},
   "source": [
    "### Making predictioins with new data"
   ]
  },
  {
   "cell_type": "code",
   "execution_count": 14,
   "metadata": {},
   "outputs": [
    {
     "name": "stdout",
     "output_type": "stream",
     "text": [
      "\n",
      "the film was really bad and i am very disappointed\n",
      "Sentiment:  0.0\n",
      "\n",
      "The film was very funny entertaining and good we had a great time . brilliant film\n",
      "Sentiment:  1.0\n",
      "\n",
      "this film was just brilliant\n",
      "Sentiment:  1.0\n",
      "\n",
      "the movie is not bad\n",
      "Sentiment:  0.0\n",
      "\n",
      "the movie is not bad I like it\n",
      "Sentiment:  0.01\n"
     ]
    }
   ],
   "source": [
    "reviews = ['the film was really bad and i am very disappointed',\n",
    "           'The film was very funny entertaining and good we had a great time . brilliant film',\n",
    "           'this film was just brilliant',\n",
    "           'the movie is not bad',\n",
    "           'the movie is not bad I like it'\n",
    "]\n",
    "sequences = [vectorize_text_sentence(review.lower(), word2int)\n",
    "             for review in reviews]\n",
    "\n",
    "x_pred = vectorize_sequences(sequences, num_words=num_words)\n",
    "predictions = model.predict(x_pred)\n",
    "for review, pred in zip(reviews, predictions.flatten()):\n",
    "    print()\n",
    "    print(review)\n",
    "    print('Sentiment: ', np.round(pred, 2))"
   ]
  },
  {
   "cell_type": "code",
   "execution_count": 15,
   "metadata": {},
   "outputs": [
    {
     "data": {
      "text/plain": [
       "array([[0.],\n",
       "       [1.],\n",
       "       [1.],\n",
       "       [0.],\n",
       "       [0.]])"
      ]
     },
     "execution_count": 15,
     "metadata": {},
     "output_type": "execute_result"
    }
   ],
   "source": [
    "1.0*(model.predict(x_pred) > 0.5)"
   ]
  },
  {
   "cell_type": "markdown",
   "metadata": {},
   "source": [
    "### Question 1: Repeat the process with unnormalized bag of words, compare results"
   ]
  },
  {
   "cell_type": "code",
   "execution_count": 16,
   "metadata": {},
   "outputs": [
    {
     "data": {
      "text/plain": [
       "((25000, 10003), (25000,))"
      ]
     },
     "execution_count": 16,
     "metadata": {},
     "output_type": "execute_result"
    }
   ],
   "source": [
    "x_train = vectorize_sequences(train_data, num_words=num_words, norm=False)\n",
    "x_test = vectorize_sequences(test_data, num_words=num_words, norm=False)\n",
    "y_train =np.asarray(train_labels).astype('float32')\n",
    "y_test = np.asarray(test_labels).astype('float32')\n",
    "x_train.shape, y_train.shape"
   ]
  },
  {
   "cell_type": "code",
   "execution_count": 17,
   "metadata": {},
   "outputs": [],
   "source": [
    "inputs = tf.keras.Input(shape=(num_words,), name='input_layer')  # entrada\n",
    "\n",
    "l_1 = layers.Dense(128, activation='relu')(inputs)\n",
    "l_1 = layers.Dropout(0.35)(l_1)\n",
    "\n",
    "l_2 = layers.Dense(64, activation='relu')(l_1)\n",
    "l_2 = layers.Dropout(0.35)(l_2)\n",
    "\n",
    "outputs = layers.Dense(1, activation='sigmoid')(l_2)\n",
    "# Model definition\n",
    "model = keras.Model(inputs=inputs, outputs=outputs)"
   ]
  },
  {
   "cell_type": "code",
   "execution_count": 18,
   "metadata": {},
   "outputs": [
    {
     "name": "stdout",
     "output_type": "stream",
     "text": [
      "Epoch 1/4\n",
      "586/586 [==============================] - 5s 7ms/step - loss: 0.4856 - accuracy: 0.7616 - val_loss: 0.2861 - val_accuracy: 0.8882\n",
      "Epoch 2/4\n",
      "586/586 [==============================] - 4s 7ms/step - loss: 0.2131 - accuracy: 0.9208 - val_loss: 0.2770 - val_accuracy: 0.8904\n",
      "Epoch 3/4\n",
      "586/586 [==============================] - 3s 6ms/step - loss: 0.1367 - accuracy: 0.9511 - val_loss: 0.2995 - val_accuracy: 0.8888\n",
      "Epoch 4/4\n",
      "586/586 [==============================] - 3s 6ms/step - loss: 0.0810 - accuracy: 0.9714 - val_loss: 0.4009 - val_accuracy: 0.8803\n",
      "Epoch 00004: early stopping\n"
     ]
    }
   ],
   "source": [
    "es_callback = keras.callbacks.EarlyStopping(monitor='val_loss',\n",
    "                                            patience=2,\n",
    "                                            verbose=1)\n",
    "\n",
    "model.compile(optimizer='adam',\n",
    "              loss='binary_crossentropy',\n",
    "              metrics=['accuracy'])\n",
    "history = model.fit(x_train,\n",
    "                    y_train,\n",
    "                    validation_split=0.25,\n",
    "                    epochs=4,\n",
    "                    batch_size=32,\n",
    "                    callbacks=[es_callback])"
   ]
  },
  {
   "cell_type": "code",
   "execution_count": 19,
   "metadata": {},
   "outputs": [
    {
     "data": {
      "image/png": "[encoded data removed]",
      "text/plain": [
       "<Figure size 1152x432 with 2 Axes>"
      ]
     },
     "metadata": {
      "needs_background": "light"
     },
     "output_type": "display_data"
    },
    {
     "name": "stdout",
     "output_type": "stream",
     "text": [
      "782/782 [==============================] - 2s 2ms/step - loss: 0.4537 - accuracy: 0.8683\n",
      "Test Loss: 0.4537387788295746\n",
      "Test Accuracy: 0.8683199882507324\n"
     ]
    }
   ],
   "source": [
    "show_loss_accuracy_evolution(hist)\n",
    "results = model.evaluate(x_test, y_test, verbose=1)\n",
    "print('Test Loss: {}'.format(results[0]))\n",
    "print('Test Accuracy: {}'.format(results[1]))"
   ]
  },
  {
   "cell_type": "markdown",
   "metadata": {},
   "source": [
    "### Question 2: What happens if you reduce the size of the vocabulary `num_words`, compare results"
   ]
  },
  {
   "cell_type": "code",
   "execution_count": 20,
   "metadata": {},
   "outputs": [
    {
     "name": "stderr",
     "output_type": "stream",
     "text": [
      "<__array_function__ internals>:5: VisibleDeprecationWarning: Creating an ndarray from ragged nested sequences (which is a list-or-tuple of lists-or-tuples-or ndarrays with different lengths or shapes) is deprecated. If you meant to do this, you must specify 'dtype=object' when creating the ndarray\n",
      "/Users/aezponda/opt/anaconda3/lib/python3.8/site-packages/tensorflow/python/keras/datasets/imdb.py:159: VisibleDeprecationWarning: Creating an ndarray from ragged nested sequences (which is a list-or-tuple of lists-or-tuples-or ndarrays with different lengths or shapes) is deprecated. If you meant to do this, you must specify 'dtype=object' when creating the ndarray\n",
      "  x_train, y_train = np.array(xs[:idx]), np.array(labels[:idx])\n",
      "/Users/aezponda/opt/anaconda3/lib/python3.8/site-packages/tensorflow/python/keras/datasets/imdb.py:160: VisibleDeprecationWarning: Creating an ndarray from ragged nested sequences (which is a list-or-tuple of lists-or-tuples-or ndarrays with different lengths or shapes) is deprecated. If you meant to do this, you must specify 'dtype=object' when creating the ndarray\n",
      "  x_test, y_test = np.array(xs[idx:]), np.array(labels[idx:])\n"
     ]
    },
    {
     "name": "stdout",
     "output_type": "stream",
     "text": [
      "[1, 14, 22, 16, 43, 530, 973, 1622, 1385, 65, 458, 4468, 66, 3941, 4, 173, 36, 256, 5, 25, 100, 43, 838, 112, 50, 670, 2, 9, 35, 480, 284, 5, 150, 4, 172, 112, 167, 2, 336, 385, 39, 4, 172, 4536, 1111, 17, 546, 38, 13, 447, 4, 192, 50, 16, 6, 147, 2025, 19, 14, 22, 4, 1920, 4613, 469, 4, 22, 71, 87, 12, 16, 43, 530, 38, 76, 15, 13, 1247, 4, 22, 17, 515, 17, 12, 16, 626, 18, 2, 5, 62, 386, 12, 8, 316, 8, 106, 5, 4, 2223, 5244, 16, 480, 66, 3785, 33, 4, 130, 12, 16, 38, 619, 5, 25, 124, 51, 36, 135, 48, 25, 1415, 33, 6, 22, 12, 215, 28, 77, 52, 5, 14, 407, 16, 82, 2, 8, 4, 107, 117, 5952, 15, 256, 4, 2, 7, 3766, 5, 723, 36, 71, 43, 530, 476, 26, 400, 317, 46, 7, 4, 2, 1029, 13, 104, 88, 4, 381, 15, 297, 98, 32, 2071, 56, 26, 141, 6, 194, 2, 18, 4, 226, 22, 21, 134, 476, 26, 480, 5, 144, 30, 5535, 18, 51, 36, 28, 224, 92, 25, 104, 4, 226, 65, 16, 38, 1334, 88, 12, 16, 283, 5, 16, 4472, 113, 103, 32, 15, 16, 5345, 19, 178, 32]\n"
     ]
    },
    {
     "data": {
      "text/plain": [
       "((25000, 6003), (25000,))"
      ]
     },
     "execution_count": 20,
     "metadata": {},
     "output_type": "execute_result"
    }
   ],
   "source": [
    "num_words = 6000\n",
    "(train_data, train_labels), (test_data, test_labels) = imdb.load_data(num_words=num_words)\n",
    "print(train_data[0])\n",
    "\n",
    "word2int = imdb.get_word_index()\n",
    "word2int = {w: i+3 for w, i in word2int.items()}\n",
    "word2int[\"<PAD>\"] = 0\n",
    "word2int[\"<START>\"] = 1\n",
    "word2int[\"<UNK>\"] = 2\n",
    "word2int[\"<UNUSED>\"] = 3\n",
    "int2word = {i: w for w, i in word2int.items()}\n",
    "num_words = num_words+3\n",
    "\n",
    "x_train = vectorize_sequences(train_data, num_words=num_words)\n",
    "x_test = vectorize_sequences(test_data, num_words=num_words)\n",
    "y_train =np.asarray(train_labels).astype('float32')\n",
    "y_test = np.asarray(test_labels).astype('float32')\n",
    "x_train.shape, y_train.shape"
   ]
  },
  {
   "cell_type": "code",
   "execution_count": 21,
   "metadata": {},
   "outputs": [],
   "source": [
    "inputs = tf.keras.Input(shape=(num_words,), name='input_layer')  # entrada\n",
    "\n",
    "l_1 = layers.Dense(128, activation='relu')(inputs)\n",
    "l_1 = layers.Dropout(0.35)(l_1)\n",
    "\n",
    "l_2 = layers.Dense(64, activation='relu')(l_1)\n",
    "l_2 = layers.Dropout(0.35)(l_2)\n",
    "\n",
    "outputs = layers.Dense(1, activation='sigmoid')(l_2)\n",
    "# Model definition\n",
    "model = keras.Model(inputs=inputs, outputs=outputs)"
   ]
  },
  {
   "cell_type": "code",
   "execution_count": 22,
   "metadata": {},
   "outputs": [
    {
     "name": "stdout",
     "output_type": "stream",
     "text": [
      "Epoch 1/4\n",
      "586/586 [==============================] - 3s 4ms/step - loss: 0.5996 - accuracy: 0.6757 - val_loss: 0.2976 - val_accuracy: 0.8816\n",
      "Epoch 2/4\n",
      "586/586 [==============================] - 2s 4ms/step - loss: 0.2698 - accuracy: 0.8935 - val_loss: 0.2691 - val_accuracy: 0.8899\n",
      "Epoch 3/4\n",
      "586/586 [==============================] - 2s 4ms/step - loss: 0.2128 - accuracy: 0.9214 - val_loss: 0.2671 - val_accuracy: 0.8914\n",
      "Epoch 4/4\n",
      "586/586 [==============================] - 2s 4ms/step - loss: 0.1833 - accuracy: 0.9353 - val_loss: 0.2758 - val_accuracy: 0.8890\n"
     ]
    }
   ],
   "source": [
    "es_callback = keras.callbacks.EarlyStopping(monitor='val_loss',\n",
    "                                            patience=2,\n",
    "                                            verbose=1)\n",
    "\n",
    "model.compile(optimizer='adam',\n",
    "              loss='binary_crossentropy',\n",
    "              metrics=['accuracy'])\n",
    "history = model.fit(x_train,\n",
    "                    y_train,\n",
    "                    validation_split=0.25,\n",
    "                    epochs=4,\n",
    "                    batch_size=32,\n",
    "                    callbacks=[es_callback])"
   ]
  },
  {
   "cell_type": "code",
   "execution_count": 23,
   "metadata": {},
   "outputs": [
    {
     "data": {
      "image/png": "[encoded data removed]",
      "text/plain": [
       "<Figure size 1152x432 with 2 Axes>"
      ]
     },
     "metadata": {
      "needs_background": "light"
     },
     "output_type": "display_data"
    },
    {
     "name": "stdout",
     "output_type": "stream",
     "text": [
      "782/782 [==============================] - 1s 2ms/step - loss: 0.2923 - accuracy: 0.8850\n",
      "Test Loss: 0.29229381680488586\n",
      "Test Accuracy: 0.8849999904632568\n"
     ]
    }
   ],
   "source": [
    "show_loss_accuracy_evolution(hist)\n",
    "results = model.evaluate(x_test, y_test, verbose=1)\n",
    "print('Test Loss: {}'.format(results[0]))\n",
    "print('Test Accuracy: {}'.format(results[1]))"
   ]
  },
  {
   "cell_type": "code",
   "execution_count": 24,
   "metadata": {},
   "outputs": [
    {
     "name": "stdout",
     "output_type": "stream",
     "text": [
      "\n",
      "the film was really bad and i am very disappointed\n",
      "Sentiment:  0.0\n",
      "\n",
      "The film was very funny entertaining and good we had a great time . brilliant film\n",
      "Sentiment:  1.0\n",
      "\n",
      "this film was just brilliant\n",
      "Sentiment:  1.0\n",
      "\n",
      "the movie is not bad\n",
      "Sentiment:  0.0\n",
      "\n",
      "the movie is not bad I like it\n",
      "Sentiment:  0.0\n"
     ]
    }
   ],
   "source": [
    "reviews = [\n",
    "    'the film was really bad and i am very disappointed',\n",
    "    'The film was very funny entertaining and good we had a great time . brilliant film',\n",
    "    'this film was just brilliant', 'the movie is not bad',\n",
    "    'the movie is not bad I like it'\n",
    "]\n",
    "sequences = [\n",
    "    vectorize_text_sentence(review.lower(), word2int) for review in reviews\n",
    "]\n",
    "\n",
    "x_pred = vectorize_sequences(sequences, num_words=num_words)\n",
    "predictions = model.predict(x_pred)\n",
    "for review, pred in zip(reviews, predictions.flatten()):\n",
    "    print()\n",
    "    print(review)\n",
    "    print('Sentiment: ', np.round(pred, 2))"
   ]
  },
  {
   "cell_type": "markdown",
   "metadata": {},
   "source": [
    "### Compare with other ML algorithms"
   ]
  },
  {
   "cell_type": "code",
   "execution_count": 25,
   "metadata": {},
   "outputs": [
    {
     "name": "stdout",
     "output_type": "stream",
     "text": [
      "Test Accuracy: 0.72136\n"
     ]
    }
   ],
   "source": [
    "from sklearn.linear_model import LogisticRegression\n",
    "clr = LogisticRegression()\n",
    "clr.fit(x_train, y_train)\n",
    "val_acc = clr.score(x_test, y_test)\n",
    "print('Test Accuracy: {}'.format(val_acc))"
   ]
  },
  {
   "cell_type": "code",
   "execution_count": 26,
   "metadata": {},
   "outputs": [
    {
     "name": "stdout",
     "output_type": "stream",
     "text": [
      "Test Accuracy: 0.81172\n"
     ]
    }
   ],
   "source": [
    "from sklearn.ensemble import RandomForestClassifier\n",
    "rfc = RandomForestClassifier(max_depth=5, n_jobs=-1)\n",
    "rfc.fit(x_train, y_train)\n",
    "val_acc = rfc.score(x_test, y_test)\n",
    "print('Test Accuracy: {}'.format(val_acc))"
   ]
  },
  {
   "cell_type": "code",
   "execution_count": 27,
   "metadata": {},
   "outputs": [
    {
     "name": "stdout",
     "output_type": "stream",
     "text": [
      "Test Accuracy: 0.84352\n"
     ]
    }
   ],
   "source": [
    "from sklearn.ensemble import RandomForestClassifier\n",
    "rfc = RandomForestClassifier(n_jobs=-1)\n",
    "rfc.fit(x_train, y_train)\n",
    "val_acc = rfc.score(x_test, y_test)\n",
    "print('Test Accuracy: {}'.format(val_acc))"
   ]
  },
  {
   "cell_type": "code",
   "execution_count": 28,
   "metadata": {},
   "outputs": [
    {
     "name": "stdout",
     "output_type": "stream",
     "text": [
      "First training review:  <START> this film was just brilliant casting location scenery story direction everyone's really suited the part they played and you could just imagine being there robert <UNK> is an amazing actor and now the same being director <UNK> father came from the same scottish island as myself so i loved the fact there was a real connection with this film the witty remarks throughout the film were great it was just brilliant so much that i bought the film as soon as it was released for <UNK> and would recommend it to everyone to watch and the fly fishing was amazing really cried at the end it was so sad and you know what they say if you cry at a film it must have been good and this definitely was also <UNK> to the two little boy's that played the <UNK> of norman and paul they were just brilliant children are often left out of the <UNK> list i think because the stars that play them all grown up are such a big <UNK> for the whole film but these children are amazing and should be praised for what they have done don't you think the whole story was so lovely because it was true and was someone's life after all that was shared with us all\n"
     ]
    }
   ],
   "source": [
    "reviews = []\n",
    "# training reviews\n",
    "for ind in range(len(train_data)):\n",
    "    sentence = train_data[ind]\n",
    "    sentence_text = get_words(train_data[ind], int2word)\n",
    "    reviews.append(sentence_text)\n",
    "print('First training review: ', reviews[0])"
   ]
  }
 ],
 "metadata": {
  "kernelspec": {
   "display_name": "Python 3",
   "language": "python",
   "name": "python3"
  },
  "language_info": {
   "codemirror_mode": {
    "name": "ipython",
    "version": 3
   },
   "file_extension": ".py",
   "mimetype": "text/x-python",
   "name": "python",
   "nbconvert_exporter": "python",
   "pygments_lexer": "ipython3",
   "version": "3.8.5"
  }
 },
 "nbformat": 4,
 "nbformat_minor": 4
}
