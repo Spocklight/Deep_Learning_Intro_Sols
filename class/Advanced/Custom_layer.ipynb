{
 "cells": [
  {
   "cell_type": "code",
   "execution_count": null,
   "id": "dramatic-toronto",
   "metadata": {},
   "outputs": [],
   "source": [
    "class MySimpleRNN(Layer):\n",
    "\n",
    "    # add an activation parameter\n",
    "    def __init__(self, units=32):\n",
    "        super(MySimpleRNN, self).__init__()\n",
    "        self.units = units\n",
    "\n",
    "        self.h = tf.zeros((self.units, ))\n",
    "\n",
    "        # define the activation to get from the built-in activation layers in Keras\n",
    "        self.activation = tf.keras.activations.get(activation)\n",
    "\n",
    "    def build(self, input_shape):\n",
    "\n",
    "        self.w_hh = self.add_weight(shape=(self.units, self.units),\n",
    "                                    initializer='random_normal',\n",
    "                                    trainable=True)\n",
    "        self.w_hx = self.add_weight(shape=(input_shape[-1], self.units),\n",
    "                                    initializer='random_normal',\n",
    "                                    trainable=True)\n",
    "        self.b_h = self.add_weight(shape=(self.units, ),\n",
    "                                   initializer='random_normal',\n",
    "                                   trainable=True)\n",
    "\n",
    "    def call(self, inputs):\n",
    "        self.h = tf.math.tanh(\n",
    "            tf.matmul(inputs, self.w_hx) + tf.matmul(h, self.w_hh) + self.b_h)\n",
    "        # pass the computation to the activation layer\n",
    "        return self.h"
   ]
  }
 ],
 "metadata": {
  "kernelspec": {
   "display_name": "Python 3",
   "language": "python",
   "name": "python3"
  },
  "language_info": {
   "codemirror_mode": {
    "name": "ipython",
    "version": 3
   },
   "file_extension": ".py",
   "mimetype": "text/x-python",
   "name": "python",
   "nbconvert_exporter": "python",
   "pygments_lexer": "ipython3",
   "version": "3.8.5"
  }
 },
 "nbformat": 4,
 "nbformat_minor": 5
}
