{
 "cells": [
  {
   "cell_type": "markdown",
   "metadata": {},
   "source": [
    "It is highly recommended to use a powerful **GPU**, you can use it for free uploading this notebook to [Google Colab](https://colab.research.google.com/notebooks/intro.ipynb).\n",
    "<table align=\"center\">\n",
    " <td align=\"center\"><a target=\"_blank\" href=\"https://colab.research.google.com/github/ezponda/intro_deep_learning/blob/main/class/RNN/IMBD_RNN.ipynb\">\n",
    "        <img src=\"https://i.ibb.co/2P3SLwK/colab.png\"  style=\"padding-bottom:5px;\" />Run in Google Colab</a></td>\n",
    "  <td align=\"center\"><a target=\"_blank\" href=\"https://github.com/ezponda/intro_deep_learning/blob/main/class/RNN/IMBD_RNN.ipynb\">\n",
    "        <img src=\"https://i.ibb.co/xfJbPmL/github.png\"  height=\"70px\" style=\"padding-bottom:5px;\"  />View Source on GitHub</a></td>\n",
    "</table>"
   ]
  },
  {
   "cell_type": "markdown",
   "metadata": {},
   "source": [
    "# Classification Example\n",
    " Two-class classification, or binary classification, may be the most widely applied kind of machine-learning problem. In this example, you’ll learn to classify movie reviews as positive or negative, based on the text content of the reviews.\n"
   ]
  },
  {
   "cell_type": "code",
   "execution_count": 1,
   "metadata": {},
   "outputs": [],
   "source": [
    "import tensorflow as tf\n",
    "from tensorflow import keras\n",
    "from tensorflow.keras import layers\n",
    "import numpy as np\n",
    "import matplotlib.pyplot as plt\n",
    "import pandas as pd\n",
    "\n",
    "\n",
    "def show_loss_accuracy_evolution(history):\n",
    "    hist = pd.DataFrame(history.history)\n",
    "    hist['epoch'] = history.epoch\n",
    "\n",
    "    fig, (ax1, ax2) = plt.subplots(1, 2, figsize=(16, 6))\n",
    "\n",
    "    ax1.set_xlabel('Epoch')\n",
    "    ax1.set_ylabel('Sparse Categorical Crossentropy')\n",
    "    ax1.plot(hist['epoch'], hist['loss'], label='Train Error')\n",
    "    ax1.plot(hist['epoch'], hist['val_loss'], label='Val Error')\n",
    "    ax1.grid()\n",
    "    ax1.legend()\n",
    "\n",
    "    ax2.set_xlabel('Epoch')\n",
    "    ax2.set_ylabel('Accuracy')\n",
    "    ax2.plot(hist['epoch'], hist['accuracy'], label='Train Accuracy')\n",
    "    ax2.plot(hist['epoch'], hist['val_accuracy'], label='Val Accuracy')\n",
    "    ax2.grid()\n",
    "    ax2.legend()\n",
    "\n",
    "    plt.show()"
   ]
  },
  {
   "cell_type": "markdown",
   "metadata": {},
   "source": [
    "## The Dataset: The IMDB dataset\n",
    "We’ll work with the IMDB dataset: a set of 50,000 highly polarized reviews from the Internet Movie Database. They’re split into 25,000 reviews for training and 25,000 reviews for testing, each set consisting of 50% negative and 50% positive reviews. The  parameter `num_words` controls how many words different we want to use."
   ]
  },
  {
   "cell_type": "code",
   "execution_count": 2,
   "metadata": {},
   "outputs": [
    {
     "name": "stderr",
     "output_type": "stream",
     "text": [
      "<__array_function__ internals>:5: VisibleDeprecationWarning: Creating an ndarray from ragged nested sequences (which is a list-or-tuple of lists-or-tuples-or ndarrays with different lengths or shapes) is deprecated. If you meant to do this, you must specify 'dtype=object' when creating the ndarray\n",
      "/Users/aezponda/opt/anaconda3/lib/python3.8/site-packages/tensorflow/python/keras/datasets/imdb.py:159: VisibleDeprecationWarning: Creating an ndarray from ragged nested sequences (which is a list-or-tuple of lists-or-tuples-or ndarrays with different lengths or shapes) is deprecated. If you meant to do this, you must specify 'dtype=object' when creating the ndarray\n",
      "  x_train, y_train = np.array(xs[:idx]), np.array(labels[:idx])\n",
      "/Users/aezponda/opt/anaconda3/lib/python3.8/site-packages/tensorflow/python/keras/datasets/imdb.py:160: VisibleDeprecationWarning: Creating an ndarray from ragged nested sequences (which is a list-or-tuple of lists-or-tuples-or ndarrays with different lengths or shapes) is deprecated. If you meant to do this, you must specify 'dtype=object' when creating the ndarray\n",
      "  x_test, y_test = np.array(xs[idx:]), np.array(labels[idx:])\n"
     ]
    },
    {
     "name": "stdout",
     "output_type": "stream",
     "text": [
      "[1, 14, 22, 16, 43, 530, 973, 1622, 1385, 65, 458, 4468, 66, 3941, 4, 173, 36, 256, 5, 25, 100, 43, 838, 112, 50, 670, 2, 9, 35, 480, 284, 5, 150, 4, 172, 112, 167, 2, 336, 385, 39, 4, 172, 4536, 1111, 17, 546, 38, 13, 447, 4, 192, 50, 16, 6, 147, 2025, 19, 14, 22, 4, 1920, 4613, 469, 4, 22, 71, 87, 12, 16, 43, 530, 38, 76, 15, 13, 1247, 4, 22, 17, 515, 17, 12, 16, 626, 18, 2, 5, 62, 386, 12, 8, 316, 8, 106, 5, 4, 2223, 5244, 16, 480, 66, 3785, 33, 4, 130, 12, 16, 38, 619, 5, 25, 124, 51, 36, 135, 48, 25, 1415, 33, 6, 22, 12, 215, 28, 77, 52, 5, 14, 407, 16, 82, 2, 8, 4, 107, 117, 5952, 15, 256, 4, 2, 7, 3766, 5, 723, 36, 71, 43, 530, 476, 26, 400, 317, 46, 7, 4, 2, 1029, 13, 104, 88, 4, 381, 15, 297, 98, 32, 2071, 56, 26, 141, 6, 194, 7486, 18, 4, 226, 22, 21, 134, 476, 26, 480, 5, 144, 30, 5535, 18, 51, 36, 28, 224, 92, 25, 104, 4, 226, 65, 16, 38, 1334, 88, 12, 16, 283, 5, 16, 4472, 113, 103, 32, 15, 16, 5345, 19, 178, 32]\n"
     ]
    }
   ],
   "source": [
    "from tensorflow.keras.datasets import imdb\n",
    "num_words = 10000\n",
    "(train_data, train_labels), (test_data, test_labels) = imdb.load_data(num_words=num_words)\n",
    "print(train_data[0])"
   ]
  },
  {
   "cell_type": "code",
   "execution_count": 3,
   "metadata": {},
   "outputs": [],
   "source": [
    "# Transform word_id to word and reverse\n",
    "word2int = imdb.get_word_index()\n",
    "word2int = {w: i+3 for w, i in word2int.items()}\n",
    "word2int[\"<PAD>\"] = 0\n",
    "word2int[\"<START>\"] = 1\n",
    "word2int[\"<UNK>\"] = 2\n",
    "word2int[\"<UNUSED>\"] = 3\n",
    "int2word = {i: w for w, i in word2int.items()}\n",
    "num_words = num_words+3"
   ]
  },
  {
   "cell_type": "markdown",
   "metadata": {},
   "source": [
    "For transforming an id-sequence to a phrase use get_words"
   ]
  },
  {
   "cell_type": "code",
   "execution_count": 4,
   "metadata": {},
   "outputs": [
    {
     "data": {
      "text/plain": [
       "\"<START> this film was just brilliant casting location scenery story direction everyone's really suited the part they played and you could just imagine being there robert <UNK> is an amazing actor and now the same being director <UNK> father came from the same scottish island as myself so i loved the fact there was a real connection with this film the witty remarks throughout the film were great it was just brilliant so much that i bought the film as soon as it was released for <UNK> and would recommend it to everyone to watch and the fly fishing was amazing really cried at the end it was so sad and you know what they say if you cry at a film it must have been good and this definitely was also <UNK> to the two little boy's that played the <UNK> of norman and paul they were just brilliant children are often left out of the <UNK> list i think because the stars that play them all grown up are such a big profile for the whole film but these children are amazing and should be praised for what they have done don't you think the whole story was so lovely because it was true and was someone's life after all that was shared with us all\""
      ]
     },
     "execution_count": 4,
     "metadata": {},
     "output_type": "execute_result"
    }
   ],
   "source": [
    "def get_words(sentence, int2word):\n",
    "    return ' '.join([int2word.get(i, '<UNK>') for i in sentence])\n",
    "\n",
    "\n",
    "get_words(train_data[0], int2word)"
   ]
  },
  {
   "cell_type": "markdown",
   "metadata": {},
   "source": [
    "# MLP model\n",
    "\n",
    "## Data Preprocessing\n",
    "\n",
    "You need to convert your raw text to an appropriate input to a sequential model "
   ]
  },
  {
   "cell_type": "code",
   "execution_count": 5,
   "metadata": {},
   "outputs": [
    {
     "name": "stdout",
     "output_type": "stream",
     "text": [
      "<START> this film was just brilliant casting location scenery story direction everyone's really suited the part they played and you could just imagine being there robert <UNK> is an amazing actor and now the same being director <UNK> father came from the same scottish island as myself so i loved the fact there was a real connection with this film the witty remarks throughout the film were great it was just brilliant so much that i bought the film as soon as it was released for <UNK> and would recommend it to everyone to watch and the fly fishing was amazing really cried at the end it was so sad and you know what they say if you cry at a film it must have been good and this definitely was also <UNK> to the two little boy's that played the <UNK> of norman and paul they were just brilliant children are often left out of the <UNK> list i think because the stars that play them all grown up are such a big profile for the whole film but these children are amazing and should be praised for what they have done don't you think the whole story was so lovely because it was true and was someone's life after all that was shared with us all\n",
      "[1, 14, 22, 16, 43, 530, 973, 1622, 1385, 65, 458, 4468, 66, 3941, 4, 173, 36, 256, 5, 25, 100, 43, 838, 112, 50, 670, 2, 9, 35, 480, 284, 5, 150, 4, 172, 112, 167, 2, 336, 385, 39, 4, 172, 4536, 1111, 17, 546, 38, 13, 447, 4, 192, 50, 16, 6, 147, 2025, 19, 14, 22, 4, 1920, 4613, 469, 4, 22, 71, 87, 12, 16, 43, 530, 38, 76, 15, 13, 1247, 4, 22, 17, 515, 17, 12, 16, 626, 18, 2, 5, 62, 386, 12, 8, 316, 8, 106, 5, 4, 2223, 5244, 16, 480, 66, 3785, 33, 4, 130, 12, 16, 38, 619, 5, 25, 124, 51, 36, 135, 48, 25, 1415, 33, 6, 22, 12, 215, 28, 77, 52, 5, 14, 407, 16, 82, 2, 8, 4, 107, 117, 5952, 15, 256, 4, 2, 7, 3766, 5, 723, 36, 71, 43, 530, 476, 26, 400, 317, 46, 7, 4, 2, 1029, 13, 104, 88, 4, 381, 15, 297, 98, 32, 2071, 56, 26, 141, 6, 194, 7486, 18, 4, 226, 22, 21, 134, 476, 26, 480, 5, 144, 30, 5535, 18, 51, 36, 28, 224, 92, 25, 104, 4, 226, 65, 16, 38, 1334, 88, 12, 16, 283, 5, 16, 4472, 113, 103, 32, 15, 16, 5345, 19, 178, 32]\n"
     ]
    }
   ],
   "source": [
    "def vectorize_text_sentence(text, word2int):\n",
    "    tokens = text.split(' ')\n",
    "    tokens_id = [word2int.get(tk,2) for tk in tokens]\n",
    "    return tokens_id\n",
    "\n",
    "text = get_words(train_data[0], int2word)\n",
    "print(text)\n",
    "print(vectorize_text_sentence(text, word2int))"
   ]
  },
  {
   "cell_type": "markdown",
   "metadata": {},
   "source": [
    "We are going to use a bag of words model. BoW is a simplifying representation used in natural language processing. In this model, a text (such as a sentence or a document) is represented as the Each key is the word, and each value is the frequency of occurrences of that word in the given text document.\n",
    "\n",
    "- **Input document**: `\"John likes to watch movies Mary likes movies too\"`\n",
    "- **BoW**: `{'John': 0.11, 'likes': 0.22, 'to': 0.11, 'watch': 0.11, 'movies': 0.22, 'Mary': 0.11, 'too': 0.11}`\n"
   ]
  },
  {
   "cell_type": "code",
   "execution_count": 6,
   "metadata": {},
   "outputs": [
    {
     "name": "stdout",
     "output_type": "stream",
     "text": [
      "text_example John likes to watch movies Mary likes movies too\n",
      "text splitted ['John', 'likes', 'to', 'watch', 'movies', 'Mary', 'likes', 'movies', 'too']\n",
      "bag_of_words {'John': 0.1111111111111111, 'likes': 0.2222222222222222, 'to': 0.1111111111111111, 'watch': 0.1111111111111111, 'movies': 0.2222222222222222, 'Mary': 0.1111111111111111, 'too': 0.1111111111111111}\n",
      "bag_of_words norm=False {'John': 1, 'likes': 2, 'to': 1, 'watch': 1, 'movies': 2, 'Mary': 1, 'too': 1}\n",
      "bag_of_words with indexes {308: 1, 1232: 2, 8: 1, 106: 1, 102: 2, 1083: 1, 99: 1}\n"
     ]
    }
   ],
   "source": [
    "from collections import Counter\n",
    "\n",
    "\n",
    "def get_bag_of_words(sequence, norm=True):\n",
    "    word_count = Counter(sequence)\n",
    "    if norm:\n",
    "        total = sum(word_count.values())\n",
    "        word_freq = {w: n / total for w, n in word_count.items()}\n",
    "        return word_freq\n",
    "    else:\n",
    "        return dict(word_count.items())\n",
    "\n",
    "\n",
    "text_example = \"John likes to watch movies Mary likes movies too\"\n",
    "print('text_example', text_example)\n",
    "text_sequence = text_example.split()\n",
    "print('text splitted', text_sequence)\n",
    "bag_of_words = get_bag_of_words(text_sequence)\n",
    "print('bag_of_words', bag_of_words)\n",
    "print('bag_of_words norm=False', get_bag_of_words(text_sequence, norm=False))\n",
    "print(\n",
    "    'bag_of_words with indexes', {\n",
    "        word2int[w.lower()]: p\n",
    "        for w, p in get_bag_of_words(text_sequence, norm=False).items()\n",
    "    })"
   ]
  },
  {
   "cell_type": "markdown",
   "metadata": {},
   "source": [
    "After that, we convert every BoW to a vector of `dim=num_words` with `vectorize_sequences`"
   ]
  },
  {
   "cell_type": "code",
   "execution_count": 7,
   "metadata": {},
   "outputs": [
    {
     "data": {
      "text/plain": [
       "((25000, 10003), (25000,))"
      ]
     },
     "execution_count": 7,
     "metadata": {},
     "output_type": "execute_result"
    }
   ],
   "source": [
    "def vectorize_sequence(sequence, num_words, norm=True):\n",
    "    vec = np.zeros(num_words)\n",
    "    bow = get_bag_of_words(sequence, norm)\n",
    "    for w, freq in bow.items():\n",
    "        if w < num_words:\n",
    "            vec[w] = freq\n",
    "    return vec\n",
    "\n",
    "\n",
    "def vectorize_sequences(sequences, num_words=num_words, norm=True):\n",
    "    \"\"\"Creates an all-zero matrix of shape (len(sequences), num_words)\"\"\"\n",
    "    results = np.zeros((len(sequences), num_words))\n",
    "    for i, sequence in enumerate(sequences):\n",
    "        results[i, :] = vectorize_sequence(sequence, num_words, norm)\n",
    "    return results\n",
    "\n",
    "\n",
    "x_train = vectorize_sequences(train_data, num_words=num_words)\n",
    "x_test = vectorize_sequences(test_data, num_words=num_words)\n",
    "y_train =np.asarray(train_labels).astype('float32')\n",
    "y_test = np.asarray(test_labels).astype('float32')\n",
    "x_train.shape, y_train.shape"
   ]
  },
  {
   "cell_type": "code",
   "execution_count": null,
   "metadata": {},
   "outputs": [],
   "source": []
  },
  {
   "cell_type": "markdown",
   "metadata": {},
   "source": [
    "## Define and train a model \n",
    "Define, compile and fit your sequential model"
   ]
  },
  {
   "cell_type": "code",
   "execution_count": null,
   "metadata": {},
   "outputs": [],
   "source": [
    "model = ...\n",
    "history = model.fit(x_train, y_train, validation_split=0.2, ...)"
   ]
  },
  {
   "cell_type": "code",
   "execution_count": null,
   "metadata": {},
   "outputs": [],
   "source": [
    "show_loss_accuracy_evolution(history)"
   ]
  },
  {
   "cell_type": "markdown",
   "metadata": {},
   "source": [
    "### Evaluate the model\n",
    "You need to obtain a Test Accuracy > 0.85. Try to get more than 0.9!"
   ]
  },
  {
   "cell_type": "code",
   "execution_count": null,
   "metadata": {},
   "outputs": [],
   "source": [
    "results = model.evaluate(x_test, y_test, verbose=1)\n",
    "print('Test Loss: {}'.format(results[0]))\n",
    "print('Test Accuracy: {}'.format(results[1]))"
   ]
  },
  {
   "cell_type": "markdown",
   "metadata": {},
   "source": [
    "### Making predictioins with new data"
   ]
  },
  {
   "cell_type": "code",
   "execution_count": null,
   "metadata": {},
   "outputs": [],
   "source": [
    "reviews = ['the film was really bad and i am very disappointed',\n",
    "           'The film was very funny entertaining and good we had a great time . brilliant film',\n",
    "           'this film was just brilliant']\n",
    "sequences = [vectorize_text_sentence(review.lower(), word2int)\n",
    "             for review in reviews]\n",
    "\n",
    "x_pred = vectorize_sequences(sequences, num_words=num_words)\n",
    "np.round(model.predict(x_pred), 4)"
   ]
  },
  {
   "cell_type": "markdown",
   "metadata": {},
   "source": [
    "# RNN model\n",
    "\n",
    "Lets use a recurrent neural network and compare results\n"
   ]
  },
  {
   "cell_type": "markdown",
   "metadata": {},
   "source": [
    "### Simple RNN model\n",
    "\n",
    "There are three built-in RNN layers in Keras:\n",
    "\n",
    "1. [`keras.layers.SimpleRNN`](https://keras.io/api/layers/recurrent_layers/simple_rnn/), a fully-connected RNN where the output from previous\n",
    "timestep is to be fed to next timestep.\n",
    "\n",
    "```python\n",
    "tf.keras.layers.SimpleRNN(\n",
    "    units,\n",
    "    dropout=0.0,\n",
    "    recurrent_dropout=0.0,\n",
    "    return_sequences=False,\n",
    "    return_state=False,\n",
    "    go_backwards=False,\n",
    "    stateful=False,\n",
    ")\n",
    "````\n",
    "\n",
    "2. [`keras.layers.GRU`](https://keras.io/api/layers/recurrent_layers/gru/), first proposed in\n",
    "[Cho et al., 2014](https://arxiv.org/abs/1406.1078).\n",
    "```python\n",
    "tf.keras.layers.GRU(\n",
    "    units,\n",
    "    dropout=0.0,\n",
    "    recurrent_dropout=0.0,\n",
    "    return_sequences=False,\n",
    "    return_state=False,\n",
    "    go_backwards=False,\n",
    "    stateful=False,\n",
    ")\n",
    "```\n",
    "\n",
    "3. [`keras.layers.LSTM`](https://keras.io/api/layers/recurrent_layers/lstm/), first proposed in\n",
    "[Hochreiter & Schmidhuber, 1997](https://www.bioinf.jku.at/publications/older/2604.pdf).\n",
    "```python\n",
    "tf.keras.layers.LSTM(\n",
    "    units,\n",
    "    dropout=0.0,\n",
    "    recurrent_dropout=0.0,\n",
    "    return_sequences=False,\n",
    "    return_state=False,\n",
    "    go_backwards=False,\n",
    "    stateful=False,\n",
    ")\n",
    "````\n",
    "For more information, see the\n",
    "[RNN API documentation](https://keras.io/api/layers/recurrent_layers/).\n",
    "\n",
    "\n",
    "\n",
    "\n",
    "\n",
    "In sequence classification we are going to use the **many-to-one** architecture with default parameter `return_sequences=False`.\n",
    "\n",
    "The shape of the output  for this architecture  is `(batch_size, units)`.\n",
    "where `units` corresponds to the `units` argument passed to the layer's constructor.\n",
    "\n",
    "Lets see one some examples for understanding the input/output dimensions:"
   ]
  },
  {
   "cell_type": "code",
   "execution_count": 8,
   "metadata": {},
   "outputs": [
    {
     "name": "stdout",
     "output_type": "stream",
     "text": [
      "input dim (batch, timesteps, feature):  (32, 10, 4)\n",
      "return_state=False output shape:  (32, 2)\n"
     ]
    }
   ],
   "source": [
    "# dims of input: [batch, timesteps, features]\n",
    "inputs = tf.random.normal([32, 10, 4])\n",
    "print('input dim (batch, timesteps, feature): ', inputs.shape)\n",
    "# return_sequences=False, return_state=False\n",
    "lstm = tf.keras.layers.LSTM(units= 2)\n",
    "output = lstm(inputs)\n",
    "print('return_state=False output shape: ',output.shape)"
   ]
  },
  {
   "cell_type": "markdown",
   "metadata": {},
   "source": [
    "### Deep RNN\n",
    "We can stack multiple layers of RNNs on top of each other. Each hidden state is continuously passed to both the next time step of the current layer and the current time step of the next layer.\n",
    "\n",
    "For stack another RNN layer to an existing one, we need to use the states with `return_sequences=True`"
   ]
  },
  {
   "cell_type": "code",
   "execution_count": 9,
   "metadata": {},
   "outputs": [
    {
     "name": "stdout",
     "output_type": "stream",
     "text": [
      "(32, 64)\n"
     ]
    }
   ],
   "source": [
    "## We can modify the input vector before the rnn cell with TimeDistributed\n",
    "timesteps = 10\n",
    "features = 8 # dimension of the innput of every cell\n",
    "\n",
    "#Shape [batch, timesteps, features] \n",
    "inputs = tf.keras.Input(shape=(timesteps, features), name='input')\n",
    "lstm_1 = layers.LSTM(64, return_sequences=True, name='lstm_1')(inputs)\n",
    "lstm_2 = layers.LSTM(64, return_sequences=True, name='lstm_2')(lstm_1)\n",
    "# last lstm layer depends in [one to many or  many to many]\n",
    "lstm_3 = layers.LSTM(64, return_sequences=False, name='lstm_3')(lstm_2)\n",
    "model = keras.Model(inputs=inputs, outputs=lstm_3, name='rnn_example')\n",
    "#print(model.summary())\n",
    "inputs = tf.random.normal([32, timesteps, features])\n",
    "print(model(inputs).shape)"
   ]
  },
  {
   "cell_type": "markdown",
   "metadata": {},
   "source": [
    "### Bidirectional RNNs\n",
    "\n",
    "For sequences other than time series (e.g. text), it is often the case that a RNN model\n",
    "can perform better if it not only processes sequence from start to end, but also\n",
    "backwards. For example, to predict the next word in a sentence, it is often useful to\n",
    "have the context around the word, not only just the words that come before it.\n",
    "\n",
    "Keras provides an easy API for you to build such bidirectional RNNs: the\n",
    "`keras.layers.Bidirectional` wrapper.\n",
    "\n",
    "[link to documentation](https://www.tensorflow.org/api_docs/python/tf/keras/layers/Bidirectional)"
   ]
  },
  {
   "cell_type": "code",
   "execution_count": 10,
   "metadata": {},
   "outputs": [
    {
     "name": "stdout",
     "output_type": "stream",
     "text": [
      "Model: \"sequential\"\n",
      "_________________________________________________________________\n",
      "Layer (type)                 Output Shape              Param #   \n",
      "=================================================================\n",
      "bidirectional (Bidirectional (None, 10, 128)           37376     \n",
      "_________________________________________________________________\n",
      "bidirectional_1 (Bidirection (None, 64)                41216     \n",
      "_________________________________________________________________\n",
      "dense (Dense)                (None, 10)                650       \n",
      "=================================================================\n",
      "Total params: 79,242\n",
      "Trainable params: 79,242\n",
      "Non-trainable params: 0\n",
      "_________________________________________________________________\n"
     ]
    }
   ],
   "source": [
    "model = keras.Sequential()\n",
    "\n",
    "# If you crete a second layer you must set return_sequences=True\n",
    "model.add(\n",
    "    layers.Bidirectional(layers.LSTM(64, return_sequences=True), input_shape=(timesteps, features))\n",
    ")\n",
    "# Second Bidirectional layer\n",
    "model.add(layers.Bidirectional(layers.LSTM(32)))\n",
    "# Output\n",
    "model.add(layers.Dense(10))\n",
    "\n",
    "model.summary()"
   ]
  },
  {
   "cell_type": "markdown",
   "metadata": {},
   "source": [
    "### Loading Data"
   ]
  },
  {
   "cell_type": "code",
   "execution_count": 11,
   "metadata": {},
   "outputs": [
    {
     "name": "stdout",
     "output_type": "stream",
     "text": [
      "(25000,) (25000,)\n"
     ]
    }
   ],
   "source": [
    "from tensorflow.keras.datasets import imdb\n",
    "num_words = 2000\n",
    "((train_data, train_labels), (test_data, test_labels)\n",
    " ) = imdb.load_data(num_words=num_words)\n",
    "\n",
    "#  limit the data for class time\n",
    "'''size = 15000\n",
    "(train_data, train_labels), (test_data, test_labels) = (\n",
    "    (train_data[:size], train_labels[:size]), (test_data[:size], test_labels[:size]))\n",
    "'''\n",
    "# Transform word_id to word and reverse\n",
    "word2int = imdb.get_word_index()\n",
    "word2int = {w: i+3 for w, i in word2int.items()}\n",
    "word2int[\"<PAD>\"] = 0\n",
    "word2int[\"<START>\"] = 1\n",
    "word2int[\"<UNK>\"] = 2\n",
    "word2int[\"<UNUSED>\"] = 3\n",
    "int2word = {i: w for w, i in word2int.items()}\n",
    "num_words = num_words+3\n",
    "\n",
    "print(train_data.shape, test_data.shape)"
   ]
  },
  {
   "cell_type": "markdown",
   "metadata": {},
   "source": [
    "#### Data Preprocessing\n",
    "\n",
    "For data preprocessing we first use [pad_sequences](https://www.tensorflow.org/api_docs/python/tf/keras/preprocessing/sequence/pad_sequences):\n",
    "```python\n",
    "tf.keras.preprocessing.sequence.pad_sequences(\n",
    "    sequences, maxlen=None, dtype='int32', padding='pre',\n",
    "    truncating='pre', value=0.0\n",
    ")\n",
    "```\n",
    "- **padding**:\t'pre' or 'post' (optional, defaults to 'pre'): pad either before or after each sequence.\n",
    "- **truncating**:\tString, 'pre' or 'post' (optional, defaults to 'pre'): remove values from sequences larger than maxlen, either at the beginning or at the end of the sequences.\n",
    "\n",
    "\n",
    "Our RNN will take sequences of constant length. In our case this length is the `maxlen`"
   ]
  },
  {
   "cell_type": "code",
   "execution_count": 12,
   "metadata": {},
   "outputs": [
    {
     "name": "stdout",
     "output_type": "stream",
     "text": [
      "input sequence:  [1, 2, 3]\n",
      "input sequence with padding:  [[0 0 1 2 3]]\n",
      "input sequence:  [1, 2, 3, 4, 5, 6, 7, 8, 9]\n",
      "input sequence with padding:  [[5 6 7 8 9]]\n"
     ]
    }
   ],
   "source": [
    "from tensorflow.keras.preprocessing import sequence\n",
    "input_seq = [1, 2, 3]\n",
    "max_len = 5\n",
    "print('input sequence: ', input_seq)\n",
    "pad_seq = sequence.pad_sequences([input_seq], maxlen=max_len)\n",
    "print('input sequence with padding: ', pad_seq)\n",
    "\n",
    "input_seq = [1, 2, 3, 4, 5, 6, 7, 8, 9]\n",
    "max_len = 5\n",
    "print('input sequence: ', input_seq)\n",
    "pad_seq = sequence.pad_sequences([input_seq], maxlen=max_len)\n",
    "print('input sequence with padding: ', pad_seq)\n"
   ]
  },
  {
   "cell_type": "code",
   "execution_count": 13,
   "metadata": {},
   "outputs": [
    {
     "name": "stdout",
     "output_type": "stream",
     "text": [
      "input sequence:  [1, 2, 3]\n",
      "input sequence with padding:  [[1 2 3 0 0]]\n",
      "input sequence:  [1, 2, 3, 4, 5, 6, 7, 8, 9]\n",
      "input sequence with padding:  [[1 2 3 4 5]]\n"
     ]
    }
   ],
   "source": [
    "input_seq = [1, 2, 3]\n",
    "max_len = 5\n",
    "print('input sequence: ', input_seq)\n",
    "pad_seq = sequence.pad_sequences([input_seq], maxlen=max_len, padding='post')\n",
    "print('input sequence with padding: ', pad_seq)\n",
    "\n",
    "input_seq = [1, 2, 3, 4, 5, 6, 7, 8, 9]\n",
    "max_len = 5\n",
    "print('input sequence: ', input_seq)\n",
    "pad_seq = sequence.pad_sequences([input_seq], maxlen=max_len, truncating='post')\n",
    "print('input sequence with padding: ', pad_seq)\n"
   ]
  },
  {
   "cell_type": "code",
   "execution_count": 14,
   "metadata": {},
   "outputs": [
    {
     "name": "stdout",
     "output_type": "stream",
     "text": [
      "train shape: (25000, 100)\n",
      "test shape: (25000, 100)\n"
     ]
    }
   ],
   "source": [
    "max_len = 100\n",
    "x_train_seq = sequence.pad_sequences(train_data, maxlen=max_len, truncating='post', padding='post')\n",
    "x_test_seq = sequence.pad_sequences(test_data, maxlen=max_len, truncating='post', padding='post')\n",
    "\n",
    "print('train shape:', x_train_seq.shape)\n",
    "print('test shape:', x_test_seq.shape)"
   ]
  },
  {
   "cell_type": "markdown",
   "metadata": {},
   "source": [
    "### Create the RNN model\n",
    "\n",
    "For the input of the first rnn layer we need a tensor of `(timesteps, features)` or `(batchsize, timesteps, features)`. We have a matrix of sentences of `(train_size, max_len)`. Every sentence is a  `max_len`, we need to convert it to a sentence of one-hot vectors of dim `(max_len, num_words)`. \n",
    "For get the one-hot encoding of every sequence we are going to use:\n",
    "\n",
    "```python\n",
    "layers.Embedding(input_dim=num_words, output_dim=num_words,\n",
    "  input_length=max_len, embeddings_initializer='identity', trainable=False)\n",
    "```\n",
    "\n",
    "This layer converts the input tensor `(batch_size, max_len)` to one-hot encoded sequences `(batch_size, max_len, num_words)`\n",
    "\n",
    "\n",
    "\n"
   ]
  },
  {
   "cell_type": "code",
   "execution_count": 15,
   "metadata": {
    "scrolled": true
   },
   "outputs": [
    {
     "name": "stdout",
     "output_type": "stream",
     "text": [
      "[[[0 1 2 2 0]]] (1, 1, 5)\n"
     ]
    },
    {
     "data": {
      "text/plain": [
       "<tf.Tensor: shape=(1, 1, 5, 3), dtype=float32, numpy=\n",
       "array([[[[1., 0., 0.],\n",
       "         [0., 1., 0.],\n",
       "         [0., 0., 1.],\n",
       "         [0., 0., 1.],\n",
       "         [1., 0., 0.]]]], dtype=float32)>"
      ]
     },
     "execution_count": 15,
     "metadata": {},
     "output_type": "execute_result"
    }
   ],
   "source": [
    "seq = np.array([[[0, 1, 2, 2, 0]]])\n",
    "print(seq, seq.shape)\n",
    "layers.Embedding(input_dim=3, output_dim=3,\n",
    "                 input_length=5, embeddings_initializer='identity',\n",
    "                 trainable=False)(seq)"
   ]
  },
  {
   "cell_type": "markdown",
   "metadata": {},
   "source": [
    "### RNN model\n",
    "Use `keras.layers.SimpleRNN`,  `keras.layers.GRU`,  `keras.layers.LSTM` or `keras.layers.Bidirectional`\n"
   ]
  },
  {
   "cell_type": "code",
   "execution_count": 16,
   "metadata": {},
   "outputs": [],
   "source": [
    "model = tf.keras.models.Sequential()\n",
    "model.add(tf.keras.Input(shape=(max_len,), name='input'))\n",
    "## one-hot encoding\n",
    "model.add(layers.Embedding(input_dim=num_words, output_dim=num_words,\n",
    "                           input_length=max_len, embeddings_initializer='identity',\n",
    "                           trainable=False))\n",
    "## complete the model with recurrent layers\n",
    "#model.add(...)\n",
    "model.add(layers.SimpleRNN(64, return_sequences=False))\n",
    "## add binary classification output\n",
    "model.add(layers.Dense(1, activation='sigmoid'))"
   ]
  },
  {
   "cell_type": "code",
   "execution_count": 17,
   "metadata": {},
   "outputs": [
    {
     "name": "stdout",
     "output_type": "stream",
     "text": [
      "Epoch 1/5\n",
      "88/88 [==============================] - 89s 1s/step - loss: 0.6956 - accuracy: 0.5121 - val_loss: 0.6905 - val_accuracy: 0.5332\n",
      "Epoch 2/5\n",
      "88/88 [==============================] - 84s 951ms/step - loss: 0.6758 - accuracy: 0.5823 - val_loss: 0.6752 - val_accuracy: 0.5704\n",
      "Epoch 3/5\n",
      "88/88 [==============================] - 86s 973ms/step - loss: 0.5483 - accuracy: 0.7460 - val_loss: 0.4788 - val_accuracy: 0.7888\n",
      "Epoch 4/5\n",
      "88/88 [==============================] - 83s 939ms/step - loss: 0.3384 - accuracy: 0.8597 - val_loss: 0.4751 - val_accuracy: 0.7964\n",
      "Epoch 5/5\n",
      "88/88 [==============================] - 83s 945ms/step - loss: 0.2286 - accuracy: 0.9184 - val_loss: 0.5436 - val_accuracy: 0.7736\n"
     ]
    }
   ],
   "source": [
    "## set the loss and see the results\n",
    "# https://www.tensorflow.org/api_docs/python/tf/keras/losses\n",
    "model.compile(\n",
    "    optimizer='adam',\n",
    "    loss='binary_crossentropy',\n",
    "    metrics=['accuracy']\n",
    ")\n",
    "epochs = 5\n",
    "history = model.fit(x_train_seq, train_labels,\n",
    "                    validation_split=0.1, epochs=epochs,\n",
    "                    batch_size=256)\n"
   ]
  },
  {
   "cell_type": "code",
   "execution_count": 18,
   "metadata": {},
   "outputs": [
    {
     "data": {
      "image/png": "[encoded data removed]",
      "text/plain": [
       "<Figure size 1152x432 with 2 Axes>"
      ]
     },
     "metadata": {
      "needs_background": "light"
     },
     "output_type": "display_data"
    },
    {
     "name": "stdout",
     "output_type": "stream",
     "text": [
      "782/782 [==============================] - 66s 84ms/step - loss: 0.5543 - accuracy: 0.7650\n",
      "Test Loss: 0.5543357133865356\n",
      "Test Accuracy: 0.7650399804115295\n"
     ]
    }
   ],
   "source": [
    "show_loss_accuracy_evolution(history)\n",
    "results = model.evaluate(x_test_seq, test_labels, verbose=1)\n",
    "print('Test Loss: {}'.format(results[0]))\n",
    "print('Test Accuracy: {}'.format(results[1]))"
   ]
  },
  {
   "cell_type": "code",
   "execution_count": 19,
   "metadata": {},
   "outputs": [
    {
     "name": "stdout",
     "output_type": "stream",
     "text": [
      "Predicted : 1, real : 0, lenght: 270\n",
      "<START> black <UNK> did this plot so much better which is why it is <UNK> and the man with two lives is just a forgotten <UNK> <UNK> no tears was it's working title and it would have been a better one as he was a thoroughly evil character for most of the film br br <UNK> <UNK> is <UNK> <UNK> when he is involved in a <UNK> accident dr <UNK> <UNK> <UNK> has been involved in some <UNK> <UNK> on animals <UNK> them back from the dead his <UNK> <UNK> him to try his <UNK> on <UNK> who has died as he is <UNK> a dangerous criminal <UNK> is going to the <UNK> <UNK> and <UNK> <UNK> of the soul <UNK> when <UNK> <UNK> from the <UNK> he has the soul of he is a changed person he is <UNK> to his family and starts to <UNK> around old <UNK> he takes over <UNK> old gang going by the name of <UNK> <UNK> he also <UNK> <UNK> former girlfriend who <UNK> a <UNK> <UNK> as <UNK> is <UNK> to even up <UNK> and starts to <UNK> his <UNK> <UNK> <UNK> up including the girlfriend and a <UNK> then his own family begins to fall victim br br but i hate those bad dream movies you always feel let down this film would have been better if he had <UNK> in character as and had a final shoot out <UNK> his <UNK> would have ended up <UNK> but <UNK> with his brother br br <UNK> <UNK> the star had a big career mostly in b movies br br not really recommended\n",
      "\n",
      "Predicted : 1, real : 0, lenght: 322\n",
      "<START> in order to enjoy an <UNK> <UNK> of <UNK> <UNK> ' stephen needs the viewer to <UNK> all reality and <UNK> knowledge of the american <UNK> <UNK> <UNK> <UNK> it's the very use of <UNK> name and knowledge to her life and work that sets this film up to fail on a grand <UNK> br br what becomes apparent quite early on with the casting of the beautiful <UNK> and <UNK> <UNK> <UNK> as the anti <UNK> <UNK> <UNK> <UNK> is that didn't get <UNK> or what her work was about <UNK> realism and seems only <UNK> to <UNK> on a <UNK> level through her <UNK> of <UNK> <UNK> br br what follows is a kind of pretty and <UNK> beauty the <UNK> fantasy <UNK> with robert <UNK> jr as <UNK> <UNK> <UNK> love interest however it's not the <UNK> of the story that is the main <UNK> in this film but the <UNK> <UNK> <UNK> that <UNK> <UNK> one of the art <UNK> most <UNK> and original woman <UNK> was <UNK> of <UNK> her own ideas about her work while his previous film was a <UNK> of female <UNK> his <UNK> portrayal of the female as <UNK> <UNK> this film completely and <UNK> in the face of the real life <UNK> <UNK> <UNK> and <UNK> in single <UNK> <UNK> the often <UNK> world of <UNK> br br imagine an <UNK> <UNK> on pop star <UNK> life with guy <UNK> as her <UNK> the man behind her career and you'll get a feel of how seriously <UNK> and <UNK> this film is it can only work if you have absolutely no knowledge of the subject or just <UNK> to <UNK> all the <UNK> br br it's a shame because once you <UNK> all <UNK> to <UNK> <UNK> this film could have <UNK> up on its own as an interesting <UNK> on <UNK> and a good <UNK> piece to <UNK> 4 10\n",
      "\n",
      "Predicted : 0, real : 1, lenght: 1005\n",
      "<START> looking back on jim <UNK> works years after his death is like taking a look back into another time for unlike most so called creative <UNK> <UNK> to <UNK> to or worse yet <UNK> <UNK> children <UNK> jim never seemed to really forget what it was like to be a child and if there ever was a moment in which he <UNK> this <UNK> aside it is <UNK> <UNK> movie filmed as an <UNK> story about how <UNK> came to work in <UNK> television as a <UNK> and ended up with a half hour show of his own on <UNK> television the <UNK> movie ends up an <UNK> of everything more <UNK> understanding <UNK> would say to children who did not quite meet the expected <UNK> during the <UNK> and as we enjoy the <UNK> of an era in which we are <UNK> and <UNK> from speaking about anything <UNK> someone might get <UNK> the open <UNK> of difference or <UNK> that <UNK> a large part of the <UNK> show is on offer here i have said it in other comments but i must say it here a great light in the world went out the day jim <UNK> died br br the <UNK> movie begins with its cast sitting down to see the <UNK> of what were about to see for the next <UNK> or so minutes in short <UNK> <UNK> we are introduced to the major players as well as some of the <UNK> and when the story <UNK> begins boy are we given a great song to bring us into the moment the <UNK> <UNK> <UNK> both a beautiful and sad image of what the <UNK> especially <UNK> were these were not just a bunch of felt <UNK> with <UNK> <UNK> who <UNK> to put on a show they were living things based upon a part of all of us only <UNK> so much more <UNK> than we are used to as each <UNK> was introduced to us in turn we saw another <UNK> of part of <UNK> and of course the children in the audience would <UNK> <UNK> to each character <UNK> everyone had a favourite when animal appeared behind a <UNK> <UNK> and <UNK> to eat a <UNK> i knew i had found one of mine <UNK> i am more of a <UNK> <UNK> fan but what the hey br br <UNK> the characters was a <UNK> of musical numbers that further developed their <UNK> and <UNK> can you picture that <UNK> an <UNK> into dr <UNK> and his band as well as the creative soul of <UNK> but the most <UNK> song to me was <UNK> number <UNK> what he is and where he came from many of us would spend a <UNK> <UNK> into the stars and like <UNK> saying we knew we would be going back there <UNK> not that all the songs were so <UNK> serious of course and <UNK> share a number after they decide to <UNK> their talent or lack <UNK> and hit the road if any <UNK> were <UNK> that present day <UNK> have lost the ability to use the pop <UNK> to create something <UNK> this number would be it never before and never again would the group <UNK> of a cast and the music so perfectly <UNK> one another with the and voice actors so perfectly on top of their game the human cast had a lot to live up to br br which makes it all the more amazing that the human element also lived up to their end of the deal <UNK> literally <UNK> the film with everyone from steve martin to <UNK> <UNK> <UNK> in to offer their support even richard <UNK> the last man one would expect to see in a film about the <UNK> appears to set up a hilarious moment <UNK> <UNK> <UNK> is just as disturbing to me as an adult as it was when i was a small boy but i suspect that is because <UNK> knew why i would find it disturbing now the big acting <UNK> though comes from charles <UNK> who as <UNK> <UNK> <UNK> everything both <UNK> and his audience <UNK> to <UNK> at every <UNK> <UNK> comes to either offer <UNK> the chance to <UNK> out and <UNK> his own kind or perhaps offer <UNK> being the right word when <UNK> attempts to <UNK> <UNK> <UNK> become <UNK> more <UNK> and violent the whole thing is one big <UNK> for how every artist has his heart broken by the world br br of course animal also shows up to <UNK> us that just because our friends are not sweet and <UNK> does not make them any less of a friend in point of fact animal turns out to be the best friend that <UNK> has in that moment and that has been the <UNK> message of every good show or film <UNK> has been involved in ever since that <UNK> or <UNK> others simply because of <UNK> or <UNK> <UNK> could literally be the worst mistake one ever makes there can be little doubt that in today's world where a <UNK> in a <UNK> suit can tell my <UNK> they are not good if they do not have good feelings for <UNK> <UNK> and still not come under serious <UNK> by child <UNK> <UNK> <UNK> creature <UNK> could never have got off the ground to <UNK> the <UNK> title <UNK> to be stupid is one thing but <UNK> the choice upon others is another matter the <UNK> movie <UNK> how <UNK> <UNK> to ask us all to think both inside and outside of the <UNK> box there will never be another entirely like him but he never would want us to stop trying br br therefore the <UNK> movie is the <UNK> of a ten out of ten film if we were to <UNK> a film out into the <UNK> to prove to intelligent life that we are worth more than being <UNK> this would be it\n",
      "\n",
      "Predicted : 0, real : 1, lenght: 99\n",
      "<START> wow i've never seen nor heard of this film it just came on tv 2 <UNK> am and i am in complete <UNK> <UNK> a bunch of rich fat <UNK> are out <UNK> one <UNK> a ball into the <UNK> it <UNK> by a <UNK> a <UNK> man <UNK> over to pick the ball up the <UNK> <UNK> it <UNK> it in his hand man <UNK> gun <UNK> <UNK> <UNK> <UNK> <UNK> into gun <UNK> gun <UNK> this is just the beginning of the <UNK> people everyone must see this movie 10 big <UNK> fat stars from <UNK>\n",
      "\n",
      "Predicted : 1, real : 0, lenght: 111\n",
      "<START> this film is about the <UNK> of 7 <UNK> on <UNK> in one <UNK> <UNK> <UNK> br br it shows 7 different <UNK> of <UNK> married <UNK> <UNK> up a relationship <UNK> <UNK> <UNK> date and <UNK> <UNK> they are not <UNK> to each other apart from the <UNK> location so that is a disappointment the film is a <UNK> of <UNK> without any <UNK> plot the film <UNK> from a <UNK> to another without any <UNK> i find this film boring and <UNK> the only redeeming feature is the great <UNK> throughout the film it is sad that talents like <UNK> <UNK> and <UNK> get wasted by this film\n",
      "\n",
      "Predicted : 1, real : 0, lenght: 56\n",
      "<START> jim first real movie is quite a <UNK> but don't come in expecting to see <UNK> p any time soon i felt the wide <UNK> of characters <UNK> <UNK> were great but without being said the rest of the movie should be put into a or something a rather odd beginning for a movie <UNK>\n",
      "\n",
      "Predicted : 1, real : 0, lenght: 597\n",
      "<START> there's something strange about the <UNK> <UNK> you can find in some <UNK> and <UNK> material one of the songs in up in <UNK> well i often wish more songs these days began that way but in this excuse for a video the <UNK> <UNK> are showing us the <UNK> for four songs from their <UNK> of the moment also <UNK> get out of my room you hear a voice over during the opening credits in which some <UNK> producer <UNK> the record as being a <UNK> <UNK> that will just take up room on the <UNK> unfortunately this opening voice over hits the <UNK> right on the head br br most music <UNK> <UNK> by the seem to keep to a <UNK> of putting the best material early in the <UNK> often when one gets past that first song the <UNK> <UNK> <UNK> that the <UNK> has little if anything to hold their attention <UNK> that <UNK> <UNK> <UNK> on the other hand often saved their best material for last or at least <UNK> it <UNK> throughout the <UNK> in this case <UNK> and <UNK> appear to have decided to <UNK> their <UNK> the opening piece get out of my room is a <UNK> <UNK> song with an incredibly bad video many a viewer of a <UNK> music video will find the <UNK> direction somewhat <UNK> <UNK> <UNK> of british <UNK> is also incredibly funny br br where it all goes <UNK> is the second number i'm not home right now nothing kills interest in a song quite like <UNK> and it's tough to get more <UNK> than this <UNK> <UNK> honestly one feels the <UNK> to <UNK> <UNK> in the face and tell him that we get the idea he isn't home right now so please move on the next song along the theme of love being a strange thing is the absolute rock bottom not only for this collection but for <UNK> and <UNK> in general it's almost as if this song was made for the <UNK> reason of <UNK> out the <UNK> running time br br <UNK> the <UNK> <UNK> saved the best for last but it is also curious to note that <UNK> is completely <UNK> from this cut born in <UNK> <UNK> a is a simple number based upon the old bruce <UNK> number that <UNK> <UNK> view of <UNK> as one is by <UNK> tale one has to wonder how many poor <UNK> who couldn't speak a word of spanish were <UNK> to <UNK> simply because their <UNK> wasn't <UNK> white <UNK> was an <UNK> part of <UNK> culture in <UNK> and it remains so today if anything it has gotten worse so one has to wonder what born in <UNK> <UNK> a would be like if it were written in the <UNK> era br br unfortunately two cuts does not an <UNK> make especially when there is so much boring <UNK> between them the <UNK> before get out of my room for example are quite funny not side <UNK> like much of up in <UNK> but funny enough to <UNK> their <UNK> unfortunately the two middle songs are <UNK> in their making of footage boring song makes boring <UNK> if you cut out the middle half hour of material from this video you'd have something <UNK> better br br i gave get out of my room a three out of ten they are <UNK> by the first and last video i'm pretty certain that the stars look at material like this today and wonder what they were thinking\n",
      "\n",
      "Predicted : 1, real : 0, lenght: 825\n",
      "<START> <UNK> <UNK> is <UNK> a <UNK> at the moment and fair play to him i always liked his image and his acting ability in such <UNK> as <UNK> heart and johnny <UNK> you know what you are going to get with <UNK> mean <UNK> dirty but this film gives you much more and you don't want most of it br br first and <UNK> this whole thing just doesn't make sense <UNK> is a <UNK> <UNK> killer who after killing a <UNK> <UNK> of <UNK> <UNK> <UNK> for london he is on the run from the cops and from his own army <UNK> he has also <UNK> to never kill again it looks like the <UNK> full of kids finally did it for him br br however when he gets to london he is <UNK> down by a local <UNK> <UNK> looking like his <UNK> and hair came straight off a <UNK> <UNK> to kill his main <UNK> in turn for <UNK> 000 and a <UNK> trip to the us <UNK> <UNK> <UNK> to do it but is seen by a <UNK> <UNK> and <UNK> the crime to him in the <UNK> in order to keep the <UNK> mouth <UNK> he <UNK> it is better than killing him br br a <UNK> of things <UNK> here which just don't add up 1 why pick <UNK> to off your <UNK> as is <UNK> by a scene <UNK> an <UNK> is <UNK> to a wall by a couple of <UNK> with what look like these london guys are tough enough anyway to do their own killing 2 not only that but the <UNK> gets a guy to follow <UNK> and <UNK> the killing with his own eyes why didn't that guy simply kill the <UNK> and save all the <UNK> of dealing with <UNK> 3 <UNK> sees the murder take place and the police let him go off without <UNK> i may add to take <UNK> no way 4 <UNK> <UNK> around the church right next to where he <UNK> out the murder immediately after the crime takes place to go to <UNK> why aren't the cops <UNK> the place out 5 <UNK> <UNK> around the church and <UNK> <UNK> in particular for days <UNK> without anybody <UNK> him what he's on the run and he <UNK> put by the very place where he <UNK> another murder stupid 6 the cops actually meet <UNK> in the church <UNK> the <UNK> and have no idea who he is do they not know he is on the run for the school <UNK> <UNK> they don't even check up on him 7 why get <UNK> to kill for you and then tell him to wait around for a few days to get on the <UNK> you'd think you'd want to get <UNK> of him immediately or kill him one or the other 8 why does <UNK> brother suddenly decide to rape the <UNK> <UNK> in the <UNK> of all the waiting could he not <UNK> himself for a few days at least until <UNK> has been <UNK> <UNK> to the states ridiculous 9 <UNK> suddenly has <UNK> <UNK> after all his years of killing and <UNK> over the <UNK> <UNK> immediately even after she knows he is a killer she still loves him again utterly <UNK> and besides she falls in love with him in record time a few days 10 the whole <UNK> thing at the end is just plain silly from <UNK> point of view 11 things happen in parts of this film that just do not make sense or are simply in there to help the storyline and i say that in <UNK> along <UNK> <UNK> <UNK> in a <UNK> until the <UNK> is ready to <UNK> and <UNK> suddenly <UNK> a moral high ground to respect the <UNK> in the house but yet will bed a <UNK> girl 12 <UNK> asks a <UNK> on the <UNK> where <UNK> is and the <UNK> <UNK> <UNK> out the entire <UNK> of his boss in less than 10 seconds it was <UNK> the guy was telling <UNK> far more than he even asked <UNK> <UNK> is an ex army guy and we see him beat up three <UNK> behind a <UNK> totally <UNK> for and yet another <UNK> worthy scene br br i'm <UNK> stop there at <UNK> <UNK> without <UNK> <UNK> hair so <UNK> red it is laughable his accent which to be fair is not too bad sometimes but <UNK> to a barely heard <UNK> at other times his clothes walk looks to the <UNK> etc nor will i mention the music and the <UNK> editing style br br i have just mentioned them br br overall a disaster of a film with some obvious religious <UNK> thrown in <UNK> on the cross <UNK> from a <UNK> which would <UNK> a first year film student never mind a top star and director br br 4 10\n",
      "\n",
      "Predicted : 0, real : 1, lenght: 2315\n",
      "<START> there's a sign on the lost <UNK> that says br br major spoilers ahead br br but you already knew that didn't you br br since there's a great deal of people that apparently did not get the point of this movie i'd like to <UNK> my <UNK> of why the plot makes perfect sense as others have <UNK> out one single viewing of this movie is not <UNK> if you have the dvd of <UNK> you can <UNK> by looking at david <UNK> top 10 <UNK> to <UNK> <UNK> but only upon second or third viewing please br br first of all <UNK> drive is <UNK> brilliant a masterpiece this is the kind of movie that <UNK> to leave your head not often are the comments on the <UNK> very accurate but it gets inside your head and <UNK> there really hit the mark br br david <UNK> deserves <UNK> for creating a movie that not only has a beautifully <UNK> look to it cinematography wise has great acting <UNK> <UNK> <UNK> a <UNK> soundtrack by <UNK> and a very dream like quality to it but on top of it all it also manages to <UNK> the viewer in such a way that few movies have before after all when is the last time you saw a movie that just wouldn't leave your mind and that everyone felt <UNK> to talk and write about <UNK> of whether they liked it or hated it br br <UNK> enough about all that it's time to <UNK> those <UNK> br br most people that have gone through some effort to try to piece the plot together will have come to the conclusion that the first half of the picture is an <UNK> a dream sequence br br of course that's too bad for all those trying to make sense of the movie by expecting <UNK> <UNK> in which the story is <UNK> out in a <UNK> <UNK> and <UNK> manner for the viewer but for those expecting that i <UNK> you to check the name of the director and come back again br br <UNK> is the story of the sad <UNK> of <UNK> <UNK> a <UNK> actor who is <UNK> in love with another actor <UNK> due to <UNK> lack of talent she is constantly <UNK> to <UNK> her career and feels she failed to deliver on her own and her <UNK> expectations upon <UNK> that <UNK> will never be <UNK> c becomes <UNK> with adam the director she <UNK> a <UNK> to get <UNK> of her and <UNK> has to deal with the <UNK> that it <UNK> br br the movie first starts off with what may seem as a strange opening for this kind of thriller which is some <UNK> dance <UNK> <UNK> in which we can see the main character <UNK> giving a great performance we also see an <UNK> couple which we will see twice more throughout the movie together with her and <UNK> her br br no wait this is what most people see the first time they view it there's actually another very <UNK> fact that is given before the credits the camera moving into an <UNK> although <UNK> and the scene quickly <UNK> out if you look <UNK> the <UNK> is actually a <UNK> <UNK> that what follows is a dream br br the main characters seen in the first half of the movie br br <UNK> <UNK> <UNK> self used in the first half of the movie that <UNK> the dream sequence a positive portrayal of a successful <UNK> young actor the complete opposite of <UNK> was <UNK> as the name as that is the real name of the <UNK> at notice that in the dream version the name is br br <UNK> the fantasy version of <UNK> <UNK> that through <UNK> dream and with the help of an <UNK> car accident is turned into an <UNK> this makes her <UNK> and <UNK> on <UNK> love she is then <UNK> <UNK> in <UNK> <UNK> <UNK> <UNK> home which <UNK> has been allowed to stay in br br <UNK> in real life <UNK> mother in the dream part the woman in <UNK> of the apartment complex that <UNK> <UNK> in she's mainly a strong <UNK> figure as can be <UNK> in both parts of the film br br adam the director we know from the second half that he gets <UNK> with <UNK> his <UNK> purpose for being in the first half of the movie is only to <UNK> as a <UNK> <UNK> for <UNK> <UNK> since she <UNK> such <UNK> towards him br br <UNK> <UNK> <UNK> real <UNK> but instead of being out of town she is actually dead <UNK> <UNK> the money left by her <UNK> and used that to pay for murder br br mr <UNK> a typical <UNK> character not real appears only in <UNK> dream sequence he's a mysterious <UNK> person that <UNK> the <UNK> of events in the dream from his <UNK> he <UNK> much of the same <UNK> as the <UNK> talking <UNK> which he also plays in <UNK> <UNK> br br the <UNK> the person that murders <UNK> this character is basically the same in both parts of the movie although <UNK> in a slightly more <UNK> fashion in the dream sequence more on that below br br now having <UNK> the various <UNK> of the characters in the movie we can begin to <UNK> into the plot of course i will not go into every little detail neither will i <UNK> it out <UNK> but i will try to explain some of the important scenes in <UNK> to <UNK> <UNK> br br as i mentioned above <UNK> was re produced as an <UNK> through her <UNK> <UNK> of a car accident in the first 10 minutes of the movie which left her completely <UNK> what i found very intriguing with <UNK> is that <UNK> constantly gives <UNK> on what is real and what isn't i've already mentioned the camera moving into the <UNK> but notice how there's two cars <UNK> in each <UNK> <UNK> the <UNK> br br only one of the cars actually hit the <UNK> what about the other even if they <UNK> clear of the accident themselves wouldn't they try to help the others or at least call for help my <UNK> is that since this is a dream the presence of the other car is just set aside and forgotten about since as <UNK> so <UNK> puts it like real dreams it does not explain does not complete its sequences <UNK> over what it finds fascinating <UNK> <UNK> <UNK> br br <UNK> after <UNK> <UNK> down from the <UNK> <UNK> at <UNK> dr and makes her way down the <UNK> and <UNK> into <UNK> <UNK> apartment <UNK> <UNK> and we see this creepy old couple driving away <UNK> <UNK> at each other and <UNK> at themselves and the camera this is the first <UNK> that what we're seeing is a nightmare br br although the old couple seem to be <UNK> to <UNK> i think they're actually her parents since they were <UNK> her at the <UNK> <UNK> perhaps she didn't know them all that well and didn't really have as good a relationship with them as she wanted so the couple is shown as very <UNK> and <UNK> to her in the dream they also <UNK> her feelings of <UNK> from the murder and <UNK> sense of <UNK> <UNK> her <UNK> <UNK> in her life br br a rather long and hilarious scene is the one involving the <UNK> <UNK> apparently sees him as the major force behind the <UNK> trying to <UNK> the director to accept part in the movie from <UNK> party in the second half of the movie and he therefore <UNK> a major part of her dream because of her feelings of <UNK> and <UNK> towards the murder of <UNK> a part of her wants him to miss so she turns him into a dumb criminal br br this scene i think is also <UNK> attempt at totally <UNK> his audience over since they're given a <UNK> <UNK> in which to view the movie br br <UNK> love that <UNK> just bit me <UNK> line though br br the next interesting scene is the one with the two <UNK> at <UNK> who are having a <UNK> about how one of them keep having this <UNK> nightmare involving a man which is seen by him through a wall outside of the <UNK> that they're sitting in after a little talk they head outside and keep walking toward the <UNK> of a <UNK> <UNK> of course by excellent music <UNK> the mood of the scene br br when <UNK> the <UNK> a <UNK> like character with a <UNK> face appears out from behind the <UNK> <UNK> the living crap out of the man having the nightmare this nightmare <UNK> only in <UNK> mind she saw that guy in the <UNK> when <UNK> for the murder so in short her <UNK> into that poor <UNK> <UNK> the <UNK> also <UNK> <UNK> evil side as can be <UNK> later in the movie br br the <UNK> <UNK> along with the <UNK> one of the strange characters that are always present in the <UNK> <UNK> <UNK> only saw him for a short while at <UNK> party but just like our own dreams can award <UNK> <UNK> that we hardly know a major part in our dreams so can he be <UNK> an important part in her dream we are also given further <UNK> during his scenes that what we're seeing is not real his <UNK> <UNK> etc br br the <UNK> is also used as a <UNK> to <UNK> the director when he meets up with him at the odd location the <UNK> here give a clear <UNK> that this is part of a dream also notice how he says that he will appear one more time if he adam does good or two more times if he does bad throughout the movie he appears two more times <UNK> to <UNK> that she did bad he is also the one to <UNK> her up to reality that scene is probably an <UNK> made to fit into her <UNK> of him <UNK> twice and <UNK> <UNK> she <UNK> suicide br br the <UNK> scene with the brothers where we can see <UNK> the <UNK> as <UNK> is probably a result of the fact that <UNK> was having an <UNK> just before <UNK> and adam made their <UNK> at <UNK> party in the second half it could at the same time also be a <UNK> from <UNK> br br during the scene in which they <UNK> <UNK> apartment the body <UNK> in the bed is <UNK> but notice how she's <UNK> <UNK> <UNK> <UNK> <UNK> is seeing herself in her own dream but the face is not <UNK> although it had the same <UNK> on the face as <UNK> would have after shooting herself this scene is also filled with some <UNK> <UNK> <UNK> since <UNK> did not know where or when the <UNK> would get to <UNK> and finish her off she just put her into her own home br br in real life <UNK> <UNK> for the movie part was bad in her dream she delivers a perfect <UNK> leaving the whole crew <UNK> about her performance br br also interesting is the fact that the money that in real life was used to pay for murder now appears in <UNK> <UNK> this is part of <UNK> <UNK> of her terrible act by <UNK> being given the money back as the murder now hasn't taken place br br when her <UNK> <UNK> to get her <UNK> <UNK> <UNK> another <UNK> is given she takes the <UNK> from her <UNK> and leaves yet later when <UNK> and <UNK> have their <UNK> on the <UNK> we see the <UNK> appear again when the camera <UNK> over the <UNK> <UNK> that <UNK> <UNK> with the <UNK> was a fantasy br br the catch <UNK> of the movie adam is <UNK> actresses for is she is the girl which are the <UNK> same words that <UNK> uses when giving the <UNK> <UNK> <UNK> br br the blue box and the key <UNK> the major turning point in the movie and is where the true <UNK> of the characters are <UNK> there's much <UNK> going on here the box may <UNK> <UNK> future it's empty or it may be a sort of a <UNK> box the <UNK> laughs when she asks him what the key will open either way it is <UNK> to the murder by means of the blue key which is <UNK> next to her after the murder has taken place the box is also seen at the end of the movie in the hands of the <UNK> <UNK> br br club is a <UNK> little addition to further <UNK> the viewer that what s he is viewing is not real it also <UNK> that <UNK> is about to <UNK> up to her reality her reality being a nightmare that she is <UNK> to escape from even in her dreams br br during the <UNK> scene at the end where the creepy old couple <UNK> <UNK> is <UNK> in such a way that she sees suicide as the only way out in order to escape the <UNK> and to avoid being <UNK> by her <UNK> br br anyway that is my <UNK> <UNK> hope this could help people from <UNK> out at this movie and <UNK> it 'the worst movie <UNK> or something to that effect without <UNK> the plot br br as usual <UNK> is all about creating <UNK> <UNK> and he certainly <UNK> that with this picture as well br br 10 out of 10\n",
      "\n",
      "Predicted : 0, real : 1, lenght: 196\n",
      "<START> for all <UNK> and <UNK> <UNK> might seem like just another <UNK> <UNK> musical to some <UNK> this might even be true especially because the producers had to be sure that the film <UNK> with the <UNK> but somewhere behind the scenes either <UNK> who had the <UNK> for this story or who directed the film decided that there would be a twist to the usual <UNK> and <UNK> perhaps beyond even their own expectations br br this is not simply about a <UNK> man <UNK> with 3 women <UNK> on whom to <UNK> as his <UNK> partner <UNK> <UNK> character was really in love with each of the 3 women at various times and they with him despite being aware of the other two <UNK> <UNK> relationship with <UNK> and is particularly interesting in that each of the women comes to <UNK> on him <UNK> there are quite a lot of <UNK> <UNK> in the <UNK> body language that <UNK> themselves to imagination <UNK> on the <UNK> <UNK> the theme is surprisingly adult and after all that it was <UNK> that the ending was <UNK> obviously <UNK> to please the <UNK> and <UNK> <UNK>\n",
      "\n"
     ]
    }
   ],
   "source": [
    "def show_errors(x_test, model, labels, int2word, n_samples=10):\n",
    "    preds = 1.0 * (model.predict(x_test).flatten() > 0.5)\n",
    "    bad_pred_inds = np.where(preds != labels)[0]\n",
    "    n_samples = min(len(bad_pred_inds), n_samples)\n",
    "    samples_inds = np.random.choice(bad_pred_inds, n_samples)\n",
    "    for ind in samples_inds:\n",
    "        print('Predicted : {0}, real : {1}, lenght: {2}'.format(\n",
    "            int(preds[ind]), labels[ind], len(test_data[ind])))\n",
    "        print(get_words(test_data[ind], int2word))\n",
    "        print()\n",
    "    return\n",
    "\n",
    "show_errors(x_test_seq, model, test_labels, int2word, n_samples=10)"
   ]
  },
  {
   "cell_type": "markdown",
   "metadata": {},
   "source": [
    "#### Making predictioins with new data"
   ]
  },
  {
   "cell_type": "code",
   "execution_count": 20,
   "metadata": {},
   "outputs": [
    {
     "data": {
      "text/plain": [
       "array([[0.0362],\n",
       "       [0.9702],\n",
       "       [0.9599],\n",
       "       [0.9103],\n",
       "       [0.0244],\n",
       "       [0.0533]], dtype=float32)"
      ]
     },
     "execution_count": 20,
     "metadata": {},
     "output_type": "execute_result"
    }
   ],
   "source": [
    "reviews = ['the film was really bad and i am very disappointed',\n",
    "           'The film was very funny entertaining and good we had a great time . brilliant film',\n",
    "           'this film was just brilliant',\n",
    "           'the film is not good',\n",
    "           'the film is not bad',\n",
    "          'the movie is not bad I like it']\n",
    "sequences = [vectorize_text_sentence(review.lower(), word2int)\n",
    "             for review in reviews]\n",
    "\n",
    "## Padding the sequences\n",
    "x_pred  = sequence.pad_sequences(sequences, maxlen=max_len, truncating='post', padding='post')# ...\n",
    "\n",
    "np.round(model.predict(x_pred), 4)"
   ]
  },
  {
   "cell_type": "code",
   "execution_count": 21,
   "metadata": {},
   "outputs": [
    {
     "data": {
      "text/plain": [
       "array([[0.],\n",
       "       [1.],\n",
       "       [1.],\n",
       "       [1.],\n",
       "       [0.],\n",
       "       [0.]])"
      ]
     },
     "execution_count": 21,
     "metadata": {},
     "output_type": "execute_result"
    }
   ],
   "source": [
    "1.0*(model.predict(x_pred) > 0.5)"
   ]
  },
  {
   "cell_type": "markdown",
   "metadata": {},
   "source": [
    "### GRU model\n",
    "Use `keras.layers.GRU`\n"
   ]
  },
  {
   "cell_type": "code",
   "execution_count": 22,
   "metadata": {},
   "outputs": [],
   "source": [
    "model = tf.keras.models.Sequential()\n",
    "model.add(tf.keras.Input(shape=(max_len,), name='input'))\n",
    "## one-hot encoding\n",
    "model.add(layers.Embedding(input_dim=num_words, output_dim=num_words,\n",
    "                           input_length=max_len, embeddings_initializer='identity',\n",
    "                           trainable=False))\n",
    "\n",
    "## complete the model with recurrent layers\n",
    "model.add(layers.GRU(64, return_sequences=False))\n",
    "## add binary classification output\n",
    "model.add(layers.Dense(1, activation='sigmoid'))"
   ]
  },
  {
   "cell_type": "code",
   "execution_count": 24,
   "metadata": {},
   "outputs": [
    {
     "name": "stdout",
     "output_type": "stream",
     "text": [
      "Epoch 1/5\n",
      "88/88 [==============================] - 120s 1s/step - loss: 0.6858 - accuracy: 0.5392 - val_loss: 0.4927 - val_accuracy: 0.7700\n",
      "Epoch 2/5\n",
      "88/88 [==============================] - 143s 2s/step - loss: 0.4447 - accuracy: 0.7963 - val_loss: 0.4134 - val_accuracy: 0.8176\n",
      "Epoch 3/5\n",
      "88/88 [==============================] - 176s 2s/step - loss: 0.3699 - accuracy: 0.8373 - val_loss: 0.4056 - val_accuracy: 0.8188\n",
      "Epoch 4/5\n",
      "88/88 [==============================] - 150s 2s/step - loss: 0.3543 - accuracy: 0.8443 - val_loss: 0.4053 - val_accuracy: 0.8144\n",
      "Epoch 5/5\n",
      "88/88 [==============================] - 171s 2s/step - loss: 0.3400 - accuracy: 0.8526 - val_loss: 0.4419 - val_accuracy: 0.8000\n"
     ]
    }
   ],
   "source": [
    "## set the loss and see the results\n",
    "model.compile(\n",
    "    optimizer='adam',\n",
    "    loss='binary_crossentropy',\n",
    "    metrics=['accuracy']\n",
    ")\n",
    "epochs = 5\n",
    "history = model.fit(x_train_seq, train_labels,\n",
    "                    validation_split=0.1, epochs=epochs,\n",
    "                    batch_size=256)"
   ]
  },
  {
   "cell_type": "code",
   "execution_count": 25,
   "metadata": {},
   "outputs": [
    {
     "name": "stdout",
     "output_type": "stream",
     "text": [
      "782/782 [==============================] - 95s 121ms/step - loss: 0.4489 - accuracy: 0.7922\n",
      "Test Loss: 0.4488656520843506\n",
      "Test Accuracy: 0.7922000288963318\n"
     ]
    }
   ],
   "source": [
    "results = model.evaluate(x_test_seq, test_labels, verbose=1)\n",
    "print('Test Loss: {}'.format(results[0]))\n",
    "print('Test Accuracy: {}'.format(results[1]))"
   ]
  },
  {
   "cell_type": "markdown",
   "metadata": {},
   "source": [
    "### LSTM model\n",
    "Use `keras.layers.LSTM` \n"
   ]
  },
  {
   "cell_type": "code",
   "execution_count": 26,
   "metadata": {},
   "outputs": [],
   "source": [
    "model = tf.keras.models.Sequential()\n",
    "model.add(tf.keras.Input(shape=(max_len,), name='input'))\n",
    "## one-hot encoding\n",
    "model.add(layers.Embedding(input_dim=num_words, output_dim=num_words,\n",
    "                           input_length=max_len, embeddings_initializer='identity',\n",
    "                           trainable=False))\n",
    "\n",
    "## complete the model with recurrent layers\n",
    "model.add(layers.LSTM(64, return_sequences=False))\n",
    "## add binary classification output\n",
    "model.add(layers.Dense(1, activation='sigmoid'))"
   ]
  },
  {
   "cell_type": "code",
   "execution_count": 27,
   "metadata": {},
   "outputs": [
    {
     "name": "stdout",
     "output_type": "stream",
     "text": [
      "Epoch 1/5\n",
      "88/88 [==============================] - 216s 2s/step - loss: 0.6599 - accuracy: 0.5767 - val_loss: 0.4748 - val_accuracy: 0.8012\n",
      "Epoch 2/5\n",
      "88/88 [==============================] - 185s 2s/step - loss: 0.4313 - accuracy: 0.8116 - val_loss: 0.4212 - val_accuracy: 0.8040\n",
      "Epoch 3/5\n",
      "88/88 [==============================] - 88s 1s/step - loss: 0.3778 - accuracy: 0.8341 - val_loss: 0.4187 - val_accuracy: 0.8096\n",
      "Epoch 4/5\n",
      "88/88 [==============================] - 82s 935ms/step - loss: 0.3621 - accuracy: 0.8424 - val_loss: 0.4038 - val_accuracy: 0.8116\n",
      "Epoch 5/5\n",
      "88/88 [==============================] - 81s 917ms/step - loss: 0.3493 - accuracy: 0.8460 - val_loss: 0.4193 - val_accuracy: 0.8080\n"
     ]
    }
   ],
   "source": [
    "## set the loss and see the results\n",
    "model.compile(\n",
    "    optimizer='adam',\n",
    "    loss='binary_crossentropy',\n",
    "    metrics=['accuracy']\n",
    ")\n",
    "epochs = 5\n",
    "history = model.fit(x_train_seq, train_labels,\n",
    "                    validation_split=0.1, epochs=epochs,\n",
    "                    batch_size=256)"
   ]
  },
  {
   "cell_type": "code",
   "execution_count": 28,
   "metadata": {},
   "outputs": [
    {
     "name": "stdout",
     "output_type": "stream",
     "text": [
      "782/782 [==============================] - 59s 75ms/step - loss: 0.4325 - accuracy: 0.8034\n",
      "Test Loss: 0.4325280785560608\n",
      "Test Accuracy: 0.8034399747848511\n"
     ]
    }
   ],
   "source": [
    "results = model.evaluate(x_test_seq, test_labels, verbose=1)\n",
    "print('Test Loss: {}'.format(results[0]))\n",
    "print('Test Accuracy: {}'.format(results[1]))"
   ]
  },
  {
   "cell_type": "markdown",
   "metadata": {},
   "source": [
    "### Deep model\n",
    "Use `keras.layers.SimpleRNN`,  `keras.layers.GRU`,  `keras.layers.LSTM` or `keras.layers.Bidirectional`\n"
   ]
  },
  {
   "cell_type": "code",
   "execution_count": 29,
   "metadata": {},
   "outputs": [],
   "source": [
    "model = tf.keras.models.Sequential()\n",
    "model.add(tf.keras.Input(shape=(max_len,), name='input'))\n",
    "## one-hot encoding\n",
    "model.add(layers.Embedding(input_dim=num_words, output_dim=num_words,\n",
    "                           input_length=max_len, embeddings_initializer='identity',\n",
    "                           trainable=False))\n",
    "\n",
    "## complete the model with recurrent layers\n",
    "model.add(layers.GRU(64, return_sequences=True))\n",
    "model.add(layers.GRU(64, return_sequences=False))\n",
    "## add binary classification output\n",
    "model.add(layers.Dense(1, activation='sigmoid'))"
   ]
  },
  {
   "cell_type": "code",
   "execution_count": 30,
   "metadata": {},
   "outputs": [
    {
     "name": "stdout",
     "output_type": "stream",
     "text": [
      "Epoch 1/5\n",
      "88/88 [==============================] - 85s 928ms/step - loss: 0.6782 - accuracy: 0.5493 - val_loss: 0.4938 - val_accuracy: 0.7564\n",
      "Epoch 2/5\n",
      "88/88 [==============================] - 91s 1s/step - loss: 0.4343 - accuracy: 0.8010 - val_loss: 0.4194 - val_accuracy: 0.8108\n",
      "Epoch 3/5\n",
      "88/88 [==============================] - 103s 1s/step - loss: 0.3785 - accuracy: 0.8344 - val_loss: 0.4170 - val_accuracy: 0.8136\n",
      "Epoch 4/5\n",
      "88/88 [==============================] - 114s 1s/step - loss: 0.3590 - accuracy: 0.8448 - val_loss: 0.4158 - val_accuracy: 0.8132\n",
      "Epoch 5/5\n",
      "88/88 [==============================] - 164s 2s/step - loss: 0.3470 - accuracy: 0.8491 - val_loss: 0.4234 - val_accuracy: 0.8152\n"
     ]
    }
   ],
   "source": [
    "## set the loss and see the results\n",
    "model.compile(\n",
    "    optimizer='adam',\n",
    "    loss='binary_crossentropy',\n",
    "    metrics=['accuracy']\n",
    ")\n",
    "epochs = 5\n",
    "history = model.fit(x_train_seq, train_labels,\n",
    "                    validation_split=0.1, epochs=epochs,\n",
    "                    batch_size=256)"
   ]
  },
  {
   "cell_type": "code",
   "execution_count": 31,
   "metadata": {},
   "outputs": [
    {
     "name": "stdout",
     "output_type": "stream",
     "text": [
      "782/782 [==============================] - 114s 146ms/step - loss: 0.4352 - accuracy: 0.8050\n",
      "Test Loss: 0.4352430999279022\n",
      "Test Accuracy: 0.8049600124359131\n"
     ]
    }
   ],
   "source": [
    "results = model.evaluate(x_test_seq, test_labels, verbose=1)\n",
    "print('Test Loss: {}'.format(results[0]))\n",
    "print('Test Accuracy: {}'.format(results[1]))"
   ]
  },
  {
   "cell_type": "markdown",
   "metadata": {},
   "source": [
    "### Bidirectional model\n",
    "Use `keras.layers.SimpleRNN`,  `keras.layers.GRU`,  `keras.layers.LSTM` with `keras.layers.Bidirectional`\n"
   ]
  },
  {
   "cell_type": "code",
   "execution_count": 32,
   "metadata": {},
   "outputs": [],
   "source": [
    "model = tf.keras.models.Sequential()\n",
    "model.add(tf.keras.Input(shape=(max_len,), name='input'))\n",
    "## one-hot encoding\n",
    "model.add(layers.Embedding(input_dim=num_words, output_dim=num_words,\n",
    "                           input_length=max_len, embeddings_initializer='identity',\n",
    "                           trainable=False))\n",
    "\n",
    "## complete the model with recurrent layers\n",
    "model.add(layers.Bidirectional(layers.GRU(64, return_sequences=False)))\n",
    "model.add(layers.Dense(1, activation='sigmoid'))"
   ]
  },
  {
   "cell_type": "code",
   "execution_count": 34,
   "metadata": {},
   "outputs": [
    {
     "name": "stdout",
     "output_type": "stream",
     "text": [
      "Epoch 1/5\n",
      "88/88 [==============================] - 386s 4s/step - loss: 0.6766 - accuracy: 0.5540 - val_loss: 0.4971 - val_accuracy: 0.7696\n",
      "Epoch 2/5\n",
      "88/88 [==============================] - 172s 2s/step - loss: 0.4369 - accuracy: 0.8002 - val_loss: 0.4155 - val_accuracy: 0.8108\n",
      "Epoch 3/5\n",
      "88/88 [==============================] - 153s 2s/step - loss: 0.3608 - accuracy: 0.8414 - val_loss: 0.4223 - val_accuracy: 0.8060\n",
      "Epoch 4/5\n",
      "88/88 [==============================] - 183s 2s/step - loss: 0.3441 - accuracy: 0.8553 - val_loss: 0.4239 - val_accuracy: 0.8140\n",
      "Epoch 5/5\n",
      "88/88 [==============================] - 188s 2s/step - loss: 0.3139 - accuracy: 0.8677 - val_loss: 0.4388 - val_accuracy: 0.8072\n"
     ]
    }
   ],
   "source": [
    "## set the loss and see the results\n",
    "model.compile(\n",
    "    optimizer='adam',\n",
    "    loss='binary_crossentropy',\n",
    "    metrics=['accuracy']\n",
    ")\n",
    "epochs = 5\n",
    "history = model.fit(x_train_seq, train_labels,\n",
    "                    validation_split=0.1, epochs=epochs,\n",
    "                    batch_size=256)"
   ]
  },
  {
   "cell_type": "code",
   "execution_count": 35,
   "metadata": {},
   "outputs": [
    {
     "name": "stdout",
     "output_type": "stream",
     "text": [
      "782/782 [==============================] - 120s 154ms/step - loss: 0.4523 - accuracy: 0.7944\n",
      "Test Loss: 0.4523336589336395\n",
      "Test Accuracy: 0.794439971446991\n"
     ]
    }
   ],
   "source": [
    "results = model.evaluate(x_test_seq, test_labels, verbose=1)\n",
    "print('Test Loss: {}'.format(results[0]))\n",
    "print('Test Accuracy: {}'.format(results[1]))"
   ]
  },
  {
   "cell_type": "markdown",
   "metadata": {},
   "source": [
    "#### Making predictioins with new data"
   ]
  },
  {
   "cell_type": "code",
   "execution_count": 36,
   "metadata": {},
   "outputs": [
    {
     "data": {
      "text/plain": [
       "array([[0.2854],\n",
       "       [0.9668],\n",
       "       [0.8511],\n",
       "       [0.7447],\n",
       "       [0.5015],\n",
       "       [0.5001]], dtype=float32)"
      ]
     },
     "execution_count": 36,
     "metadata": {},
     "output_type": "execute_result"
    }
   ],
   "source": [
    "reviews = ['the film was really bad and i am very disappointed',\n",
    "           'The film was very funny entertaining and good we had a great time . brilliant film',\n",
    "           'this film was just brilliant',\n",
    "           'the film is not good',\n",
    "           'the film is not bad',\n",
    "           'the movie is not bad I like it']\n",
    "sequences = [vectorize_text_sentence(review.lower(), word2int)\n",
    "             for review in reviews]\n",
    "\n",
    "## Padding the sequences\n",
    "x_pred  = sequence.pad_sequences(sequences, maxlen=max_len, truncating='post', padding='post')# ...\n",
    "\n",
    "np.round(model.predict(x_pred), 4)"
   ]
  },
  {
   "cell_type": "code",
   "execution_count": 37,
   "metadata": {},
   "outputs": [
    {
     "name": "stdout",
     "output_type": "stream",
     "text": [
      "Predicted : 1, real : 0, lenght: 166\n",
      "<START> i just <UNK> watching <UNK> <UNK> that i <UNK> from my <UNK> i <UNK> it <UNK> from years ago and wanted to watch it with my son anyway the movie was less than 2 hours running time and i thought it was much longer when i first saw it the back of the vhs box states that the <UNK> a <UNK> <UNK> whose <UNK> could <UNK> the free world forever the <UNK> were supposedly on a <UNK> mission to <UNK> the <UNK> <UNK> there was nothing even <UNK> about <UNK> this <UNK> also the box says that the <UNK> <UNK> <UNK> <UNK> <UNK> on human blood that would make this a horror movie and there was also nothing <UNK> in the movie about this i can't remember the details when i watched this years ago on tv but could the back of this box actually be true maybe the 3 hour movie <UNK> more details br br just wondering if anyone knows anything about this\n",
      "\n",
      "Predicted : 1, real : 0, lenght: 176\n",
      "<START> my mother forced me to watch this movie with her she apparently will watch anything with a vampire <UNK> in it i was bored throughout br br at different points <UNK> <UNK> of the is <UNK> of <UNK> battle for the planet of the <UNK> the passion of the <UNK> and <UNK> what it reminds me most of are those italian <UNK> and <UNK> pictures of the <UNK> <UNK> not the good ones that spend an <UNK> amount of time showing <UNK> or <UNK> <UNK> in <UNK> talking and <UNK> <UNK> while you wait <UNK> for the <UNK> man hero and his lover usually the <UNK> daughter to do something br br this film was in desperate need of some color and suspense the characters were pretty two <UNK> br br the sets looked as if they were <UNK> entirely of <UNK> i wonder how many <UNK> war <UNK> sets were <UNK> down to make this movie br br all those wearing <UNK> <UNK> on your <UNK> and black <UNK> feel free to <UNK> no\n",
      "\n",
      "Predicted : 1, real : 0, lenght: 131\n",
      "<START> just an hour ago i finished watching this my friend as a fans of <UNK> we think that this movie is so bad that is good we will say one thing without a <UNK> <UNK> there is now way you can <UNK> through this movie this movie should be watched with a many <UNK> fans to laugh their ass off the best character in the movie is the lord <UNK> his <UNK> his laugh and <UNK> <UNK> the <UNK> experience what we liked in this movie was the fact that the island of <UNK> man was the same as in cartoon version we believe that the only character similar to the one in the cartoon is the <UNK> man he is also a sex <UNK> and kind of <UNK> too\n",
      "\n",
      "Predicted : 0, real : 1, lenght: 244\n",
      "<START> i saw this at the london film festival last night apparently the <UNK> version james <UNK> of the content of the film is very good very <UNK> <UNK> his <UNK> of the <UNK> business into <UNK> <UNK> about <UNK> the effect of the <UNK> media the power of <UNK> and the need for <UNK> br br the film is shot on hand held <UNK> which some might find <UNK> but which does <UNK> to catch people off <UNK> on a number of <UNK> which probably would not have been possible using more <UNK> <UNK> br br despite the <UNK> feel of the film the editing is very <UNK> not only giving us a <UNK> of the <UNK> <UNK> but also <UNK> a number of comments with somewhat <UNK> visual images and giving others <UNK> <UNK> to <UNK> themselves to a <UNK> this <UNK> michael <UNK> recent work although <UNK> in a more subtle way but probably the <UNK> of the film go back to <UNK> <UNK> the <UNK> and the <UNK> both in the way the film is <UNK> and in the <UNK> of of the <UNK> french <UNK> as the stars de <UNK> <UNK> <UNK> were present at the <UNK> and <UNK> questions <UNK> we do indeed all need a little <UNK> <UNK> <UNK> br br overall an excellent film with <UNK> that go way beyond the world of <UNK> into the way we <UNK> <UNK> as people and <UNK> our world\n",
      "\n",
      "Predicted : 1, real : 0, lenght: 176\n",
      "<START> this <UNK> <UNK> short wasn't really much not one of his <UNK> <UNK> of course i never see <UNK> kids as anything hilarious that's what the <UNK> of this story is <UNK> and his wife <UNK> davis <UNK> his in <UNK> two young kids one is a baby who is constantly <UNK> and the other is a four year old <UNK> who does everything but <UNK> the house <UNK> the kid create <UNK> over and over was not entertaining to me br br the best part was the last four or five minutes when the couple thinks that this big <UNK> <UNK> young is <UNK> their house half the time it's the <UNK> cat <UNK> the couple but overall that <UNK> is fun with some good sight gags <UNK> me of another <UNK> short <UNK> <UNK> br br however the good ending doesn't save the whole picture which i probably wouldn't watch again <UNK> has done too many other good things to waste even <UNK> minutes on this one again it just isn't that funny\n",
      "\n",
      "Predicted : 1, real : 0, lenght: 829\n",
      "<START> for those of you who have never heard of the movie until now of which i <UNK> there are many <UNK> people who haven't i'll <UNK> it for you <UNK> <UNK> plays the <UNK> character of <UNK> who also <UNK> as the film's <UNK> a la kevin <UNK> in american beauty but without the intelligent <UNK> on life <UNK> goes to <UNK> for <UNK> a <UNK> kid to death and the movie attempts to figure out why he did it he seems to be a nice boy if not <UNK> <UNK> and is portrayed by <UNK> with a complete lack of violence <UNK> or <UNK> and if you're waiting for him to <UNK> his <UNK> side later in the movie don't waste your time it's not that kind of movie once in <UNK> prison <UNK> goes to <UNK> <UNK> by <UNK> <UNK> <UNK> portrayed by don <UNK> who is <UNK> of anything but quality even when in bad movies <UNK> attempts to <UNK> the mystery of <UNK> in an attempt to figure out how such a kid could do such a thing and so he could write a book about it later along with being a <UNK> prison teacher <UNK> is also an <UNK> <UNK> br br the relationship between <UNK> and <UNK> is the driving narrative behind the film as their <UNK> <UNK> past to the audience however to call it the central focus would <UNK> that this <UNK> film had one it does not the <UNK> states of <UNK> <UNK> an impressive cast which seems to be to the <UNK> of the film it seems as though writer director <UNK> <UNK> <UNK> don't <UNK> that you haven't heard of him he's never done anything had to give every character a personal story <UNK> and personality <UNK> in order to get the actors to play them most of these <UNK> and stories are <UNK> and most go <UNK> and <UNK> br br i'll try and break them down here martin <UNK> and ann are the parents of the <UNK> <UNK> boy i love how the movie kept <UNK> the kid <UNK> never <UNK> <UNK> that part made me laugh inside they apparently have a cold relationship because all <UNK> <UNK> in <UNK> cinema must be cold their other two kids are <UNK> williams who is apparently an <UNK> actress about to <UNK> college and <UNK> <UNK> who plays the same <UNK> teen <UNK> she always plays this time with a heroine <UNK> <UNK> was also the girlfriend of <UNK> which gives him his <UNK> to his victim <UNK> boyfriend who was <UNK> and came to live with the family and is a <UNK> player looking to go to the same college as his girlfriend is played by chris <UNK> he ends up doing more with his character than any of the other bit players <UNK> to <UNK> the movie at times <UNK> <UNK> is mother who seems to be <UNK> sad for some reason kevin <UNK> also the <UNK> producer is cold and <UNK> father who is a <UNK> <UNK> eventually <UNK> will show up to put a <UNK> in story if you even care at that point oh yeah and there's a drug dealing ex boyfriend a couple of fellow and a co <UNK> of <UNK> with whom he has an affair on his long <UNK> girlfriend with played by <UNK> <UNK> br br sorry if all that <UNK> and character <UNK> took so long if it seemed <UNK> and boring then you've just <UNK> a bit of what i did during the <UNK> minutes i spent watching the movie but the <UNK> supporting cast of over <UNK> clichés is the least of this film's <UNK> the biggest one is that the whole <UNK> is entirely pointless we aren't given a fascinating look into a <UNK> mind we aren't given an effective explanation we aren't given much of anything given that it <UNK> so much i'm <UNK> go ahead and <UNK> the ending for you so that you never have to see it <UNK> <UNK> the <UNK> because all <UNK> could see in the world was <UNK> and wanted to <UNK> <UNK> or whatever the <UNK> name was the <UNK> in his eyes it's like the worst <UNK> band in the world made an <UNK> and <UNK> it the world is sad so i killed a <UNK> oh and <UNK> dies in the end in a sequence so <UNK> of unbelievable <UNK> that it would have <UNK> the movie if the movie didn't already <UNK> of course he dies in the end because that made the movie so deep br br i'm giving the movie 2 stars because the actors themselves all did a pretty good job with the <UNK> they were given the scenes with <UNK> and <UNK> together were even interesting on some <UNK> but to <UNK> the film itself you have to believe that movies are more than the <UNK> of their parts\n",
      "\n",
      "Predicted : 0, real : 1, lenght: 327\n",
      "<START> minor spoilers br br if there's something in the world of silent <UNK> that <UNK> me it is that <UNK> chase never got his well deserved break through in the movies oh well maybe it isn't that strange really <UNK> as he never <UNK> in any full length features but when i think of it such an explanation makes it all only more mysterious because why the <UNK> didn't chase get any offers to play the leading lead in features one explanation is that his character no matter how amusing was simply too realistic to suit a longer story without the <UNK> elements that <UNK> <UNK> <UNK> <UNK> and other <UNK> <UNK> it can be <UNK> that the comedy he made and which worked so well for twenty minutes would get <UNK> after a few more <UNK> i don't quite buy this though as <UNK> <UNK> <UNK> is <UNK> and could i believe at its best <UNK> the interest of viewers alone for a longer period at least i am <UNK> to think so when <UNK> like a <UNK> runs the show br br mr <UNK> isn't <UNK> <UNK> and <UNK> <UNK> is hardly a classic beauty he <UNK> the truly biggest front <UNK> of any human being on the planet and she has a <UNK> large <UNK> both of them takes <UNK> <UNK> without the <UNK> knowledge and when they meet by accident just a little later he doesn't <UNK> his wife and she doesn't <UNK> her husband a number of hilarious <UNK> begin with many clever gags all the way through i don't think i'll <UNK> anything further to make the viewing more enjoyable for you because if you're a fan of silent comedies or even if you aren't <UNK> like a <UNK> offers so many memorable moments within such a short time that i would look upon it as a <UNK> shame not to see it silly indeed but no less extremely funny\n",
      "\n",
      "Predicted : 0, real : 1, lenght: 178\n",
      "<START> if you don't have anything better to do then go ahead and rent this movie it's intelligent funny it will sure have your attention <UNK> for a while br br i discover it by <UNK> <UNK> in a boring <UNK> it was on cable and for the faces i saw i thought it may worth the try it made me laugh and for a movie in a <UNK> with nothing else on tv it was ok br br <UNK> <UNK> looks amazing in the movie even though her acting is not what i expected it's kind of poor acting and for the rest of the crew i liked <UNK> in her role as a dr also i found interesting seeing the guy from the <UNK> what i like about you playing an almost gay <UNK> br br as for j <UNK> i found it as always a very good performance michael douglas plays a small role but his <UNK> was hard for me to <UNK> him br br it's also a good movie to watch with company\n",
      "\n",
      "Predicted : 1, real : 0, lenght: 341\n",
      "<START> this is a very strange film with a no name cast and <UNK> nothing known about it on the <UNK> it uses an approach familiar to those who have watched the likes of <UNK> in that it <UNK> a <UNK> of so called horror <UNK> and <UNK> them together into a <UNK> narrative of the people who are involved in the <UNK> getting off a <UNK> there is a <UNK> who <UNK> on about relationships but his talking adds absolutely nothing to the mix at all and just adds to the <UNK> as for the stories themselves well i <UNK> i have not got a <UNK> why this movie got an <UNK> <UNK> in the <UNK> which would bring it into line with the likes of nightmare on <UNK> street and the <UNK> nothing here is even <UNK> scary there is no gore sex nudity or even a <UNK> word to <UNK> things up this is the kind of thing you could put out on <UNK> tv and no one would <UNK> an <UNK> i can only think if it had got the rating it truly deserved a <UNK> no serious horror fan would be seen dead with it so the <UNK> probably <UNK> the <UNK> until they <UNK> anyway here are the 3 <UNK> in <UNK> 1 a man becomes <UNK> <UNK> with his <UNK> car to the point of <UNK> his <UNK> 2 a man who lives in a <UNK> apartment is <UNK> <UNK> out when a living <UNK> <UNK> from his six <UNK> old <UNK> <UNK> 3 a woman thinks she has found the perfect man through a computer <UNK> <UNK> that is until he starts to act weird and there you have it some of them are pretty amusing due to their <UNK> <UNK> my favourite being number 2 but you get the feeling they were meant to be a <UNK> and b <UNK> plays unfortunately they fail <UNK> on both <UNK> to <UNK> up then this flick is an <UNK> <UNK> for very good reasons\n",
      "\n",
      "Predicted : 1, real : 0, lenght: 343\n",
      "<START> let's see what are the <UNK> to watching <UNK> <UNK> well if you've never seen anything to do with <UNK> there's a lot of <UNK> footage of both <UNK> and the <UNK> and <UNK> side and of the various <UNK> <UNK> at work and play as well as plenty of <UNK> <UNK> if you like william smith he plays a bit of a <UNK> as he has always been <UNK> to do br br and that's about it if it wasn't for william smith this could probably pass as a <UNK> <UNK> film for save the children or some other <UNK> that <UNK> the third world the only time you really see the <UNK> of the title is during the opening credits no <UNK> killer <UNK> like in <UNK> <UNK> named <UNK> you'd figure with twice the <UNK> in the title there would be twice as many monster <UNK> <UNK> on the characters but <UNK> this is not the case br br the story starts with a <UNK> and her brother coming to <UNK> to do a story on one of the last <UNK> places on the planet but their <UNK> quickly changes to one of wanting to find <UNK> which are apparently fairly <UNK> there br br there's not a lot of real action or <UNK> in this movie what <UNK> been an exciting <UNK> race is <UNK> by the <UNK> of <UNK> and animal footage that is <UNK> in it to <UNK> out the films running time there's not a whole lot more action until the last <UNK> minutes or so of the movie which is probably about how long the movie would last without all the br br in my view the only ways that a movie can really be a bad movie is to be boring or incredibly stupid <UNK> <UNK> certainly <UNK> for that former <UNK> and is pretty damn close to the second the only reason i won't rate it a 1 is that the added footage is more interesting than the rest of the movie\n",
      "\n"
     ]
    }
   ],
   "source": [
    "show_errors(x_test_seq, model, test_labels, int2word, n_samples=10)"
   ]
  },
  {
   "cell_type": "markdown",
   "metadata": {},
   "source": [
    "###  Use a convolutional network instead of a RNN\n",
    "\n",
    "```python\n",
    "tf.keras.layers.Conv1D(\n",
    "    filters, kernel_size\n",
    ")\n",
    "```\n",
    "\n",
    "```python\n",
    "tf.keras.layers.MaxPool1D(\n",
    "    pool_size=2\n",
    ")\n",
    "```\n",
    "\n",
    "```python\n",
    "tf.keras.layers.Flatten()\n",
    "```"
   ]
  },
  {
   "cell_type": "code",
   "execution_count": 42,
   "metadata": {},
   "outputs": [],
   "source": [
    "from tensorflow.keras.datasets import imdb\n",
    "num_words = 2000\n",
    "((train_data, train_labels), (test_data, test_labels)\n",
    " ) = imdb.load_data(num_words=num_words)\n",
    "\n",
    "#  limit the data for class time\n",
    "# Transform word_id to word and reverse\n",
    "word2int = imdb.get_word_index()\n",
    "word2int = {w: i+3 for w, i in word2int.items()}\n",
    "word2int[\"<PAD>\"] = 0\n",
    "word2int[\"<START>\"] = 1\n",
    "word2int[\"<UNK>\"] = 2\n",
    "word2int[\"<UNUSED>\"] = 3\n",
    "int2word = {i: w for w, i in word2int.items()}\n",
    "num_words = num_words+3"
   ]
  },
  {
   "cell_type": "code",
   "execution_count": 43,
   "metadata": {},
   "outputs": [
    {
     "name": "stdout",
     "output_type": "stream",
     "text": [
      "train shape: (25000, 100)\n",
      "test shape: (25000, 100)\n"
     ]
    }
   ],
   "source": [
    "max_len = 100\n",
    "x_train_seq = sequence.pad_sequences(train_data, maxlen=max_len, truncating='post', padding='post')\n",
    "x_test_seq = sequence.pad_sequences(test_data, maxlen=max_len, truncating='post', padding='post')\n",
    "\n",
    "print('train shape:', x_train_seq.shape)\n",
    "print('test shape:', x_test_seq.shape)"
   ]
  },
  {
   "cell_type": "code",
   "execution_count": 44,
   "metadata": {},
   "outputs": [],
   "source": [
    "model = tf.keras.models.Sequential()\n",
    "model.add(tf.keras.Input(shape=(max_len,), name='input'))\n",
    "## one-hot encoding\n",
    "model.add(layers.Embedding(input_dim=num_words, output_dim=num_words,\n",
    "                           input_length=max_len, embeddings_initializer='identity',\n",
    "                           trainable=False))\n",
    "\n",
    "\n",
    "model.add(layers.Conv1D(32, 3, activation='relu'))\n",
    "model.add(layers.MaxPooling1D(2))\n",
    "\n",
    "model.add(layers.Dropout(0.5))\n",
    "model.add(layers.Conv1D(32, 3, activation='relu'))\n",
    "model.add(layers.MaxPooling1D(2))\n",
    "\n",
    "model.add(layers.Dropout(0.5))\n",
    "model.add(layers.Flatten())\n",
    "model.add(layers.Dense(32, activation='relu'))\n",
    "model.add(layers.Dense(1, activation='sigmoid'))"
   ]
  },
  {
   "cell_type": "code",
   "execution_count": 45,
   "metadata": {},
   "outputs": [
    {
     "name": "stdout",
     "output_type": "stream",
     "text": [
      "Epoch 1/5\n",
      "88/88 [==============================] - 74s 831ms/step - loss: 0.6932 - accuracy: 0.5055 - val_loss: 0.6747 - val_accuracy: 0.6352\n",
      "Epoch 2/5\n",
      "88/88 [==============================] - 70s 793ms/step - loss: 0.6032 - accuracy: 0.6811 - val_loss: 0.4481 - val_accuracy: 0.7912\n",
      "Epoch 3/5\n",
      "88/88 [==============================] - 50s 570ms/step - loss: 0.3984 - accuracy: 0.8220 - val_loss: 0.4070 - val_accuracy: 0.8140\n",
      "Epoch 4/5\n",
      "88/88 [==============================] - 49s 558ms/step - loss: 0.3549 - accuracy: 0.8434 - val_loss: 0.3995 - val_accuracy: 0.8192\n",
      "Epoch 5/5\n",
      "88/88 [==============================] - 50s 571ms/step - loss: 0.3104 - accuracy: 0.8689 - val_loss: 0.4124 - val_accuracy: 0.8100\n"
     ]
    }
   ],
   "source": [
    "model.compile(\n",
    "    optimizer='adam',\n",
    "    loss='binary_crossentropy',\n",
    "    metrics=['accuracy']\n",
    ")\n",
    "epochs = 5\n",
    "history = model.fit(x_train_seq, train_labels,\n",
    "                    validation_split=0.1, epochs=epochs,\n",
    "                    batch_size=256)"
   ]
  },
  {
   "cell_type": "code",
   "execution_count": 46,
   "metadata": {},
   "outputs": [
    {
     "data": {
      "text/plain": [
       "array([[0.3799],\n",
       "       [0.9474],\n",
       "       [0.8705],\n",
       "       [0.7794],\n",
       "       [0.6296]], dtype=float32)"
      ]
     },
     "execution_count": 46,
     "metadata": {},
     "output_type": "execute_result"
    }
   ],
   "source": [
    "reviews = ['the film was really bad and i am very disappointed',\n",
    "           'The film was very funny entertaining and good we had a great time . brilliant film',\n",
    "           'this film was just brilliant',\n",
    "           'the film is not good',\n",
    "           'the film is not bad']\n",
    "sequences = [vectorize_text_sentence(review.lower(), word2int)\n",
    "             for review in reviews]\n",
    "\n",
    "## Padding the sequences\n",
    "x_pred  = sequence.pad_sequences(sequences, maxlen=max_len, truncating='post', padding='post')# ...\n",
    "\n",
    "np.round(model.predict(x_pred), 4)"
   ]
  },
  {
   "cell_type": "code",
   "execution_count": 47,
   "metadata": {},
   "outputs": [
    {
     "name": "stdout",
     "output_type": "stream",
     "text": [
      "Predicted : 0, real : 1, lenght: 213\n",
      "<START> <UNK> director david <UNK> <UNK> love of blood and gore and <UNK> heads with the more confusing aspects of a reality <UNK> david <UNK> film and it actually works <UNK> i won't bother trying to give even the <UNK> <UNK> of a plot <UNK> here because <UNK> only cause more <UNK> all you need to know is that the film is about a <UNK> reality computer game that is so incredibly <UNK> that it becomes difficult to tell the difference between reality and <UNK> reality the film almost seems to <UNK> its <UNK> <UNK> point at the end but then it <UNK> in the final twist in the very last line of dialogue br br there's also some very <UNK> sexual <UNK> based around the in the <UNK> <UNK> as well as some very <UNK> acting from <UNK> law he manages to come off as <UNK> and stupid and boring and any other annoying <UNK> you can care to think of jason <UNK> <UNK> comes off much better and everyone else can be called a supporting character including <UNK> <UNK> in a <UNK> if <UNK> role as a money <UNK> <UNK> overall is a very effective sci fi film about the <UNK> <UNK> can present and the possible <UNK> it will <UNK>\n",
      "\n",
      "Predicted : 0, real : 1, lenght: 153\n",
      "<START> man i think people have forgotten how to watch a movie everyone thinks they're a <UNK> they comment on things that the average movie <UNK> doesn't even know or think about br br i enjoyed the film it was what i was expecting therefore was not disappointed <UNK> gets a bad <UNK> for putting his <UNK> into his films but that's also a reason to watch what's even more funny is the people that <UNK> about his films say he's the worst and that we shouldn't watch his films yet watch his movies anyway all so they can comment on how bad they are who's the <UNK> if you don't like his work don't watch it then you won't have to subject yourself to this supposedly painful event br br stop <UNK> movies to other movies and watch a movie on an <UNK> <UNK> and you may begin to enjoy films again\n",
      "\n",
      "Predicted : 1, real : 0, lenght: 226\n",
      "<START> i love <UNK> they are among my favorite <UNK> of film before seeing this film i hadn't seen one that i hadn't liked br br the premise for this film is a great one the <UNK> is well done there were some times early on when i laughed and <UNK> yet as the film went on the more <UNK> and <UNK> it became this could have been something special had the subject not been such an <UNK> <UNK> <UNK> <UNK> i appreciate his passion for film but <UNK> your <UNK> if you're short on <UNK> maybe you shouldn't have so many kids or spend so much money on <UNK> maybe you should have gone to film school or at least <UNK> from high school maybe you should have lived life and gotten perspective and <UNK> that could add to your vision br br there are so many people out there with stories that are interesting funny and <UNK> to see this guy <UNK> over any of them is nothing less than <UNK> if you want to do a documentary on a film <UNK> why not do one on someone from <UNK> or <UNK> a film <UNK> with real problems br br two final questions br br who takes a little kid to see <UNK> now br br how many times did this guy say man\n",
      "\n",
      "Predicted : 1, real : 0, lenght: 330\n",
      "<START> the film <UNK> <UNK> was a good view although still <UNK> at over 4 hours but the film took great <UNK> as usual with hollywood james chris <UNK> and <UNK> were actually married in real life their main <UNK> to the <UNK> <UNK> war was to start it by being <UNK> well by starting it i mean it came at the beginning not the end here's the real <UNK> james and <UNK> <UNK> were <UNK> married because one <UNK> could be given to each family by <UNK> as single <UNK> they could get two <UNK> they <UNK> on crazy woman <UNK> actually <UNK> the water above the land held by a powerful member of the <UNK> he <UNK> to buy them out <UNK> which they <UNK> br br although <UNK> in real life as the <UNK> of a <UNK> <UNK> kate and a <UNK> herself and also in the film there is no real <UNK> that was true it is known that she bought many head of sick <UNK> <UNK> them back to life and was later <UNK> by the <UNK> of <UNK> the <UNK> in <UNK> for <UNK> in the end she was <UNK> of <UNK> an act almost certainly <UNK> so much for this part of the <UNK> of the american west which is a de <UNK> of <UNK> <UNK> a time period of about one <UNK> years br br in real life she and jim were surprised one day by several members of the <UNK> taken in hand and <UNK> <UNK> those <UNK> the <UNK> were never brought to <UNK> but that was the first <UNK> that led to the murder of <UNK> <UNK> and the start of the <UNK> <UNK> war br br quite different from the hollywood version which shows her shot at the end br br other than that i think the main problem with the film was the <UNK> who could have made the action a <UNK> pace by more <UNK> editing\n",
      "\n",
      "Predicted : 1, real : 0, lenght: 135\n",
      "<START> i went into this movie with <UNK> high expectations after loving the cartoon series in my childhood and this nearly <UNK> that love for me jason lee david <UNK> in the film is <UNK> i understand it can't be easy to act with cgi characters who aren't actually there but i really found his performance <UNK> along with all the other non animated characters the <UNK> were <UNK> yet sometimes <UNK> obvious at moving the plot of the story along and therefore did not <UNK> me to stay in the theater for longer than half an hour into the film if you feel you must see this film rent it at the most it is not worth <UNK> <UNK> to see it in <UNK> unless you'd like a good laugh at the horrible acting\n",
      "\n",
      "Predicted : 1, real : 0, lenght: 206\n",
      "<START> an <UNK> <UNK> some <UNK> and a <UNK> of a <UNK> machine a powerful and <UNK> <UNK> fall in a <UNK> in <UNK> the <UNK> company <UNK> a <UNK> <UNK> <UNK> by <UNK> <UNK> <UNK> <UNK> the <UNK> of a huge <UNK> which <UNK> the <UNK> and father of one of the scientist there the group finds the <UNK> of the plane five <UNK> far from the expected location and the machine and the remains of the <UNK> further they realize that a <UNK> a kind of big <UNK> is <UNK> them this movie is so ridiculous that i do not know what i am doing <UNK> my time again in this garbage the direction is awful the actors and the lines are horrible <UNK> parts of the and even the <UNK> witch <UNK> to <UNK> how bad this movie is its best scene is when <UNK> <UNK> the character of <UNK> <UNK> is <UNK> and the <UNK> of the <UNK> says that she needs to have an <UNK> of <UNK> <UNK> <UNK> <UNK> her <UNK> and the <UNK> says <UNK> <UNK> but the shot needs to be in your ridiculous my <UNK> is two br br title <UNK> <UNK> o <UNK> the br br\n",
      "\n",
      "Predicted : 1, real : 0, lenght: 91\n",
      "<START> i had to <UNK> my rating of this movie to a 4 due to the terrible sound track i'm pretty sure it was not a problem with me or the <UNK> because some actors and the sound track <UNK> great but most of the actors <UNK> were <UNK> or <UNK> beyond <UNK> especially for non <UNK> br br there are plenty of cute little twists that would make this an enjoyable movie ending up in <UNK> by mistake is great but much of the humor was lost in the sound\n",
      "\n",
      "Predicted : 1, real : 0, lenght: 337\n",
      "<START> child death and horror movies will always <UNK> a <UNK> <UNK> <UNK> and therefore it is my personal opinion that every movie that shows the <UNK> to <UNK> on this <UNK> should <UNK> some extra attention from horror fans of course like in the case of <UNK> little things <UNK> themes don't always <UNK> a good film despite the <UNK> interesting plot the <UNK> setting and the <UNK> of video nasty director j s <UNK> the <UNK> this is an <UNK> and cliché <UNK> film that couldn't offer a single <UNK> or shock after <UNK> their husband and father the <UNK> women mother <UNK> and her <UNK> <UNK> and <UNK> move to a small and <UNK> <UNK> town where they <UNK> an old <UNK> <UNK> their new home is <UNK> close to the old mine <UNK> where <UNK> of innocent children <UNK> lost their lives in <UNK> strange things start to happen like young <UNK> <UNK> an <UNK> girl who used to live in their house and the <UNK> <UNK> seem to keep <UNK> from <UNK> and her <UNK> quickly turns out that the <UNK> children still leave their mine <UNK> at night to <UNK> <UNK> on the <UNK> of the <UNK> <UNK> mr <UNK> who was responsible for their <UNK> <UNK> little things is rather <UNK> and extremely predictable the script <UNK> <UNK> one <UNK> cliché after the other like car <UNK> stuck in the <UNK> at <UNK> times <UNK> and <UNK> broken <UNK> there's very little suspense even less gore and the make up effects are <UNK> weak the <UNK> children don't look <UNK> at all actually they all look like <UNK> <UNK> of <UNK> <UNK> with their black <UNK> <UNK> faces and dark eyes the <UNK> free finale is stupid and just as <UNK> as the rest of this pointless production <UNK> is thoroughly <UNK> in her leading role as the mother but <UNK> taylor <UNK> <UNK> a big star thanks to the <UNK> remake and young <UNK> are <UNK> as the <UNK>\n",
      "\n",
      "Predicted : 1, real : 0, lenght: 70\n",
      "<START> i know it's not original but what the hey what else can be said about it i feel <UNK> silly just <UNK> any attention at all to from hell it came the movie makes the important political and social issue of <UNK> from <UNK> <UNK> <UNK> seem a matter for <UNK> and <UNK> not the <UNK> and <UNK> being <UNK> by <UNK> all over the world at the time\n",
      "\n",
      "Predicted : 0, real : 1, lenght: 585\n",
      "<START> it would be something to try and tell someone what <UNK> <UNK> is very simply about or maybe it isn't <UNK> goes to the <UNK> <UNK> and <UNK> <UNK> to film <UNK> <UNK> and the <UNK> but this is just the <UNK> <UNK> it's a <UNK> that you either <UNK> yourself to or you don't he gets into the form of the world around him entirely without a story <UNK> only to certain aspects of written <UNK> as his camera shooting on supposedly <UNK> film <UNK> <UNK> like in a pure <UNK> one might even jump to that easy conclusion as he puts up these <UNK> <UNK> then moving to more <UNK> <UNK> culture though not the actual <UNK> culture itself and to a point <UNK> too <UNK> to be able to <UNK> <UNK> here sometimes it takes a while to get along close to a <UNK> through the <UNK> <UNK> but a <UNK> in how parts are <UNK> either by nature or by broken down <UNK> soon the <UNK> <UNK> from the who by the way does the music for most of his films with the <UNK> <UNK> of actually highly <UNK> shots adds a whole different level to it it's a <UNK> film and it's not easy but the <UNK> are what best comes <UNK> to <UNK> idea of <UNK> truth images he's been out for his whole career br br one <UNK> if the images end up by the time the second <UNK> <UNK> leading along the words <UNK> or if it's the other way around you're eyes are moving along with the <UNK> and <UNK> and the <UNK> is close to being religious writing but there's also the music <UNK> how the <UNK> <UNK> singing and low key <UNK> music goes together with <UNK> <UNK> and <UNK> faith i think each side ends up <UNK> the other and it's something that still seems like it shouldn't work perhaps that's the <UNK> to it the <UNK> taken in going through <UNK> <UNK> and the <UNK> run <UNK> of any kind of <UNK> life in this case the <UNK> of the <UNK> that make it so fascinating if only for the <UNK> sense it's a <UNK> too <UNK> for the <UNK> photography fan because of <UNK> of <UNK> and some of the <UNK> images of any <UNK> film there's <UNK> there's long shots there's hand held while driving by the <UNK> there's a <UNK> <UNK> of <UNK> away that <UNK> <UNK> seems only a couple there's full on close ups of fire and a man <UNK> a <UNK> and talking about its <UNK> truly classic <UNK> comedy there's people <UNK> still in fake <UNK> and a man and woman playing <UNK> music but most <UNK> it ends up feeling at least for me natural for the personal nature of the approach br br i'm sure only <UNK> would know for certain why he made this film as <UNK> to the simple <UNK> he was already filming even <UNK> started small and he ended up going through many <UNK> to finish it yet this is what makes <UNK> <UNK> such an amazing <UNK> it will appeal to one <UNK> on what someone brings to it in actually watching it it's definitely <UNK> but there's the <UNK> to want to see it again very soon after just to experience all of the ideas and <UNK> turned <UNK> strange <UNK> yes the word <UNK> here it's one of the truly <UNK> art films ever made\n",
      "\n"
     ]
    }
   ],
   "source": [
    "show_errors(x_test_seq, model, test_labels, int2word, n_samples=10)"
   ]
  }
 ],
 "metadata": {
  "kernelspec": {
   "display_name": "Python 3",
   "language": "python",
   "name": "python3"
  },
  "language_info": {
   "codemirror_mode": {
    "name": "ipython",
    "version": 3
   },
   "file_extension": ".py",
   "mimetype": "text/x-python",
   "name": "python",
   "nbconvert_exporter": "python",
   "pygments_lexer": "ipython3",
   "version": "3.8.5"
  }
 },
 "nbformat": 4,
 "nbformat_minor": 4
}
